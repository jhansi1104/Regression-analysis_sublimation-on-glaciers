{
 "cells": [
  {
   "cell_type": "markdown",
   "id": "35d6e227",
   "metadata": {},
   "source": [
    "## IMPORTING LIBRARIES"
   ]
  },
  {
   "cell_type": "code",
   "execution_count": 1,
   "id": "62564b3c",
   "metadata": {},
   "outputs": [],
   "source": [
    "import numpy as np\n",
    "import seaborn as sns\n",
    "import matplotlib.pyplot as plt\n",
    "import pandas as pd\n",
    "from sklearn.model_selection import train_test_split\n",
    "from sklearn.linear_model import LinearRegression\n",
    "from sklearn.preprocessing import StandardScaler\n",
    "from sklearn.preprocessing import PolynomialFeatures \n",
    "from sklearn.ensemble import RandomForestRegressor \n",
    "from sklearn.svm import SVR\n",
    "from sklearn.tree import DecisionTreeRegressor \n",
    "from sklearn.metrics import r2_score\n",
    "from sklearn.metrics import mean_absolute_error\n",
    "from sklearn.metrics import mean_squared_error"
   ]
  },
  {
   "cell_type": "markdown",
   "id": "77a22ddf",
   "metadata": {},
   "source": [
    "## LOADING THE DATASET"
   ]
  },
  {
   "cell_type": "code",
   "execution_count": 2,
   "id": "166236c3",
   "metadata": {},
   "outputs": [
    {
     "data": {
      "text/html": [
       "<div>\n",
       "<style scoped>\n",
       "    .dataframe tbody tr th:only-of-type {\n",
       "        vertical-align: middle;\n",
       "    }\n",
       "\n",
       "    .dataframe tbody tr th {\n",
       "        vertical-align: top;\n",
       "    }\n",
       "\n",
       "    .dataframe thead th {\n",
       "        text-align: right;\n",
       "    }\n",
       "</style>\n",
       "<table border=\"1\" class=\"dataframe\">\n",
       "  <thead>\n",
       "    <tr style=\"text-align: right;\">\n",
       "      <th></th>\n",
       "      <th>log(surf T)</th>\n",
       "      <th>1/Esat surf</th>\n",
       "      <th>qair-qsurf</th>\n",
       "      <th>sub values</th>\n",
       "    </tr>\n",
       "  </thead>\n",
       "  <tbody>\n",
       "    <tr>\n",
       "      <th>0</th>\n",
       "      <td>5.611032</td>\n",
       "      <td>0.001636</td>\n",
       "      <td>-0.000008</td>\n",
       "      <td>-0.000025</td>\n",
       "    </tr>\n",
       "    <tr>\n",
       "      <th>1</th>\n",
       "      <td>5.611032</td>\n",
       "      <td>0.001636</td>\n",
       "      <td>-0.000098</td>\n",
       "      <td>-0.000221</td>\n",
       "    </tr>\n",
       "    <tr>\n",
       "      <th>2</th>\n",
       "      <td>5.611032</td>\n",
       "      <td>0.001636</td>\n",
       "      <td>-0.000131</td>\n",
       "      <td>-0.000306</td>\n",
       "    </tr>\n",
       "    <tr>\n",
       "      <th>3</th>\n",
       "      <td>5.611032</td>\n",
       "      <td>0.001636</td>\n",
       "      <td>-0.000135</td>\n",
       "      <td>-0.000427</td>\n",
       "    </tr>\n",
       "    <tr>\n",
       "      <th>4</th>\n",
       "      <td>5.611032</td>\n",
       "      <td>0.001636</td>\n",
       "      <td>-0.000084</td>\n",
       "      <td>-0.000200</td>\n",
       "    </tr>\n",
       "  </tbody>\n",
       "</table>\n",
       "</div>"
      ],
      "text/plain": [
       "   log(surf T)  1/Esat surf  qair-qsurf  sub values\n",
       "0     5.611032     0.001636   -0.000008   -0.000025\n",
       "1     5.611032     0.001636   -0.000098   -0.000221\n",
       "2     5.611032     0.001636   -0.000131   -0.000306\n",
       "3     5.611032     0.001636   -0.000135   -0.000427\n",
       "4     5.611032     0.001636   -0.000084   -0.000200"
      ]
     },
     "execution_count": 2,
     "metadata": {},
     "output_type": "execute_result"
    }
   ],
   "source": [
    "dataset = pd.read_excel('New_sub_val_test.xlsx')\n",
    "dataset.head()"
   ]
  },
  {
   "cell_type": "markdown",
   "id": "2e3cbd5a",
   "metadata": {},
   "source": [
    "## DEFINING THE X-AXIS & Y-AXIS"
   ]
  },
  {
   "cell_type": "code",
   "execution_count": 155,
   "id": "70042b4b",
   "metadata": {},
   "outputs": [
    {
     "data": {
      "text/html": [
       "<div>\n",
       "<style scoped>\n",
       "    .dataframe tbody tr th:only-of-type {\n",
       "        vertical-align: middle;\n",
       "    }\n",
       "\n",
       "    .dataframe tbody tr th {\n",
       "        vertical-align: top;\n",
       "    }\n",
       "\n",
       "    .dataframe thead th {\n",
       "        text-align: right;\n",
       "    }\n",
       "</style>\n",
       "<table border=\"1\" class=\"dataframe\">\n",
       "  <thead>\n",
       "    <tr style=\"text-align: right;\">\n",
       "      <th></th>\n",
       "      <th>log(surf T)</th>\n",
       "      <th>1/Esat surf</th>\n",
       "      <th>qair-qsurf</th>\n",
       "    </tr>\n",
       "  </thead>\n",
       "  <tbody>\n",
       "    <tr>\n",
       "      <th>0</th>\n",
       "      <td>5.611032</td>\n",
       "      <td>0.001636</td>\n",
       "      <td>-0.000008</td>\n",
       "    </tr>\n",
       "    <tr>\n",
       "      <th>1</th>\n",
       "      <td>5.611032</td>\n",
       "      <td>0.001636</td>\n",
       "      <td>-0.000098</td>\n",
       "    </tr>\n",
       "    <tr>\n",
       "      <th>2</th>\n",
       "      <td>5.611032</td>\n",
       "      <td>0.001636</td>\n",
       "      <td>-0.000131</td>\n",
       "    </tr>\n",
       "    <tr>\n",
       "      <th>3</th>\n",
       "      <td>5.611032</td>\n",
       "      <td>0.001636</td>\n",
       "      <td>-0.000135</td>\n",
       "    </tr>\n",
       "    <tr>\n",
       "      <th>4</th>\n",
       "      <td>5.611032</td>\n",
       "      <td>0.001636</td>\n",
       "      <td>-0.000084</td>\n",
       "    </tr>\n",
       "    <tr>\n",
       "      <th>5</th>\n",
       "      <td>5.611032</td>\n",
       "      <td>0.001636</td>\n",
       "      <td>-0.000055</td>\n",
       "    </tr>\n",
       "    <tr>\n",
       "      <th>6</th>\n",
       "      <td>5.611032</td>\n",
       "      <td>0.001636</td>\n",
       "      <td>-0.000033</td>\n",
       "    </tr>\n",
       "    <tr>\n",
       "      <th>7</th>\n",
       "      <td>5.611032</td>\n",
       "      <td>0.001636</td>\n",
       "      <td>0.000147</td>\n",
       "    </tr>\n",
       "    <tr>\n",
       "      <th>8</th>\n",
       "      <td>5.611015</td>\n",
       "      <td>0.001637</td>\n",
       "      <td>0.000154</td>\n",
       "    </tr>\n",
       "    <tr>\n",
       "      <th>9</th>\n",
       "      <td>5.610136</td>\n",
       "      <td>0.001666</td>\n",
       "      <td>0.000059</td>\n",
       "    </tr>\n",
       "    <tr>\n",
       "      <th>10</th>\n",
       "      <td>5.611032</td>\n",
       "      <td>0.001636</td>\n",
       "      <td>0.000104</td>\n",
       "    </tr>\n",
       "    <tr>\n",
       "      <th>11</th>\n",
       "      <td>5.610740</td>\n",
       "      <td>0.001646</td>\n",
       "      <td>0.000007</td>\n",
       "    </tr>\n",
       "    <tr>\n",
       "      <th>12</th>\n",
       "      <td>5.610840</td>\n",
       "      <td>0.001643</td>\n",
       "      <td>0.000081</td>\n",
       "    </tr>\n",
       "    <tr>\n",
       "      <th>13</th>\n",
       "      <td>5.611016</td>\n",
       "      <td>0.001637</td>\n",
       "      <td>0.000057</td>\n",
       "    </tr>\n",
       "    <tr>\n",
       "      <th>14</th>\n",
       "      <td>5.611032</td>\n",
       "      <td>0.001636</td>\n",
       "      <td>0.000055</td>\n",
       "    </tr>\n",
       "    <tr>\n",
       "      <th>15</th>\n",
       "      <td>5.611032</td>\n",
       "      <td>0.001636</td>\n",
       "      <td>0.000076</td>\n",
       "    </tr>\n",
       "    <tr>\n",
       "      <th>16</th>\n",
       "      <td>5.611032</td>\n",
       "      <td>0.001636</td>\n",
       "      <td>-0.000061</td>\n",
       "    </tr>\n",
       "    <tr>\n",
       "      <th>17</th>\n",
       "      <td>5.611032</td>\n",
       "      <td>0.001636</td>\n",
       "      <td>-0.000060</td>\n",
       "    </tr>\n",
       "    <tr>\n",
       "      <th>18</th>\n",
       "      <td>5.611032</td>\n",
       "      <td>0.001636</td>\n",
       "      <td>-0.000007</td>\n",
       "    </tr>\n",
       "    <tr>\n",
       "      <th>19</th>\n",
       "      <td>5.611032</td>\n",
       "      <td>0.001636</td>\n",
       "      <td>0.000100</td>\n",
       "    </tr>\n",
       "    <tr>\n",
       "      <th>20</th>\n",
       "      <td>5.611032</td>\n",
       "      <td>0.001636</td>\n",
       "      <td>0.000126</td>\n",
       "    </tr>\n",
       "    <tr>\n",
       "      <th>21</th>\n",
       "      <td>5.611032</td>\n",
       "      <td>0.001636</td>\n",
       "      <td>-0.000015</td>\n",
       "    </tr>\n",
       "    <tr>\n",
       "      <th>22</th>\n",
       "      <td>5.611032</td>\n",
       "      <td>0.001636</td>\n",
       "      <td>0.000086</td>\n",
       "    </tr>\n",
       "    <tr>\n",
       "      <th>23</th>\n",
       "      <td>5.611032</td>\n",
       "      <td>0.001636</td>\n",
       "      <td>0.000110</td>\n",
       "    </tr>\n",
       "    <tr>\n",
       "      <th>24</th>\n",
       "      <td>5.611032</td>\n",
       "      <td>0.001636</td>\n",
       "      <td>0.000083</td>\n",
       "    </tr>\n",
       "    <tr>\n",
       "      <th>25</th>\n",
       "      <td>5.611032</td>\n",
       "      <td>0.001636</td>\n",
       "      <td>0.000090</td>\n",
       "    </tr>\n",
       "    <tr>\n",
       "      <th>26</th>\n",
       "      <td>5.611032</td>\n",
       "      <td>0.001636</td>\n",
       "      <td>0.000152</td>\n",
       "    </tr>\n",
       "    <tr>\n",
       "      <th>27</th>\n",
       "      <td>5.611032</td>\n",
       "      <td>0.001636</td>\n",
       "      <td>0.000119</td>\n",
       "    </tr>\n",
       "    <tr>\n",
       "      <th>28</th>\n",
       "      <td>5.611032</td>\n",
       "      <td>0.001636</td>\n",
       "      <td>0.000097</td>\n",
       "    </tr>\n",
       "    <tr>\n",
       "      <th>29</th>\n",
       "      <td>5.611032</td>\n",
       "      <td>0.001636</td>\n",
       "      <td>0.000114</td>\n",
       "    </tr>\n",
       "    <tr>\n",
       "      <th>30</th>\n",
       "      <td>5.611032</td>\n",
       "      <td>0.001636</td>\n",
       "      <td>0.000135</td>\n",
       "    </tr>\n",
       "    <tr>\n",
       "      <th>31</th>\n",
       "      <td>5.611032</td>\n",
       "      <td>0.001636</td>\n",
       "      <td>0.000107</td>\n",
       "    </tr>\n",
       "    <tr>\n",
       "      <th>32</th>\n",
       "      <td>5.611032</td>\n",
       "      <td>0.001636</td>\n",
       "      <td>0.000111</td>\n",
       "    </tr>\n",
       "    <tr>\n",
       "      <th>33</th>\n",
       "      <td>5.611032</td>\n",
       "      <td>0.001636</td>\n",
       "      <td>0.000167</td>\n",
       "    </tr>\n",
       "    <tr>\n",
       "      <th>34</th>\n",
       "      <td>5.611032</td>\n",
       "      <td>0.001636</td>\n",
       "      <td>0.000141</td>\n",
       "    </tr>\n",
       "    <tr>\n",
       "      <th>35</th>\n",
       "      <td>5.611032</td>\n",
       "      <td>0.001636</td>\n",
       "      <td>0.000038</td>\n",
       "    </tr>\n",
       "    <tr>\n",
       "      <th>36</th>\n",
       "      <td>5.611032</td>\n",
       "      <td>0.001636</td>\n",
       "      <td>0.000004</td>\n",
       "    </tr>\n",
       "    <tr>\n",
       "      <th>37</th>\n",
       "      <td>5.611032</td>\n",
       "      <td>0.001636</td>\n",
       "      <td>0.000003</td>\n",
       "    </tr>\n",
       "    <tr>\n",
       "      <th>38</th>\n",
       "      <td>5.611032</td>\n",
       "      <td>0.001636</td>\n",
       "      <td>0.000015</td>\n",
       "    </tr>\n",
       "    <tr>\n",
       "      <th>39</th>\n",
       "      <td>5.611032</td>\n",
       "      <td>0.001636</td>\n",
       "      <td>0.000105</td>\n",
       "    </tr>\n",
       "    <tr>\n",
       "      <th>40</th>\n",
       "      <td>5.611032</td>\n",
       "      <td>0.001636</td>\n",
       "      <td>0.000086</td>\n",
       "    </tr>\n",
       "    <tr>\n",
       "      <th>41</th>\n",
       "      <td>5.611032</td>\n",
       "      <td>0.001636</td>\n",
       "      <td>0.000083</td>\n",
       "    </tr>\n",
       "    <tr>\n",
       "      <th>42</th>\n",
       "      <td>5.611032</td>\n",
       "      <td>0.001636</td>\n",
       "      <td>0.000130</td>\n",
       "    </tr>\n",
       "    <tr>\n",
       "      <th>43</th>\n",
       "      <td>5.611032</td>\n",
       "      <td>0.001636</td>\n",
       "      <td>0.000079</td>\n",
       "    </tr>\n",
       "    <tr>\n",
       "      <th>44</th>\n",
       "      <td>5.611032</td>\n",
       "      <td>0.001636</td>\n",
       "      <td>0.000076</td>\n",
       "    </tr>\n",
       "    <tr>\n",
       "      <th>45</th>\n",
       "      <td>5.610867</td>\n",
       "      <td>0.001642</td>\n",
       "      <td>0.000039</td>\n",
       "    </tr>\n",
       "    <tr>\n",
       "      <th>46</th>\n",
       "      <td>5.610742</td>\n",
       "      <td>0.001646</td>\n",
       "      <td>0.000038</td>\n",
       "    </tr>\n",
       "    <tr>\n",
       "      <th>47</th>\n",
       "      <td>5.610964</td>\n",
       "      <td>0.001639</td>\n",
       "      <td>0.000057</td>\n",
       "    </tr>\n",
       "    <tr>\n",
       "      <th>48</th>\n",
       "      <td>5.610368</td>\n",
       "      <td>0.001658</td>\n",
       "      <td>0.000025</td>\n",
       "    </tr>\n",
       "    <tr>\n",
       "      <th>49</th>\n",
       "      <td>5.607224</td>\n",
       "      <td>0.001765</td>\n",
       "      <td>-0.000108</td>\n",
       "    </tr>\n",
       "    <tr>\n",
       "      <th>50</th>\n",
       "      <td>5.606640</td>\n",
       "      <td>0.001786</td>\n",
       "      <td>-0.000013</td>\n",
       "    </tr>\n",
       "    <tr>\n",
       "      <th>51</th>\n",
       "      <td>5.606118</td>\n",
       "      <td>0.001804</td>\n",
       "      <td>-0.000026</td>\n",
       "    </tr>\n",
       "    <tr>\n",
       "      <th>52</th>\n",
       "      <td>5.606934</td>\n",
       "      <td>0.001775</td>\n",
       "      <td>-0.000028</td>\n",
       "    </tr>\n",
       "    <tr>\n",
       "      <th>53</th>\n",
       "      <td>5.606871</td>\n",
       "      <td>0.001778</td>\n",
       "      <td>0.000011</td>\n",
       "    </tr>\n",
       "    <tr>\n",
       "      <th>54</th>\n",
       "      <td>5.605461</td>\n",
       "      <td>0.001828</td>\n",
       "      <td>0.000054</td>\n",
       "    </tr>\n",
       "    <tr>\n",
       "      <th>55</th>\n",
       "      <td>5.605201</td>\n",
       "      <td>0.001838</td>\n",
       "      <td>-0.000054</td>\n",
       "    </tr>\n",
       "    <tr>\n",
       "      <th>56</th>\n",
       "      <td>5.604061</td>\n",
       "      <td>0.001880</td>\n",
       "      <td>0.000018</td>\n",
       "    </tr>\n",
       "    <tr>\n",
       "      <th>57</th>\n",
       "      <td>5.604791</td>\n",
       "      <td>0.001853</td>\n",
       "      <td>-0.000116</td>\n",
       "    </tr>\n",
       "    <tr>\n",
       "      <th>58</th>\n",
       "      <td>5.604745</td>\n",
       "      <td>0.001855</td>\n",
       "      <td>-0.000154</td>\n",
       "    </tr>\n",
       "    <tr>\n",
       "      <th>59</th>\n",
       "      <td>5.603069</td>\n",
       "      <td>0.001918</td>\n",
       "      <td>-0.000099</td>\n",
       "    </tr>\n",
       "  </tbody>\n",
       "</table>\n",
       "</div>"
      ],
      "text/plain": [
       "    log(surf T)  1/Esat surf  qair-qsurf\n",
       "0      5.611032     0.001636   -0.000008\n",
       "1      5.611032     0.001636   -0.000098\n",
       "2      5.611032     0.001636   -0.000131\n",
       "3      5.611032     0.001636   -0.000135\n",
       "4      5.611032     0.001636   -0.000084\n",
       "5      5.611032     0.001636   -0.000055\n",
       "6      5.611032     0.001636   -0.000033\n",
       "7      5.611032     0.001636    0.000147\n",
       "8      5.611015     0.001637    0.000154\n",
       "9      5.610136     0.001666    0.000059\n",
       "10     5.611032     0.001636    0.000104\n",
       "11     5.610740     0.001646    0.000007\n",
       "12     5.610840     0.001643    0.000081\n",
       "13     5.611016     0.001637    0.000057\n",
       "14     5.611032     0.001636    0.000055\n",
       "15     5.611032     0.001636    0.000076\n",
       "16     5.611032     0.001636   -0.000061\n",
       "17     5.611032     0.001636   -0.000060\n",
       "18     5.611032     0.001636   -0.000007\n",
       "19     5.611032     0.001636    0.000100\n",
       "20     5.611032     0.001636    0.000126\n",
       "21     5.611032     0.001636   -0.000015\n",
       "22     5.611032     0.001636    0.000086\n",
       "23     5.611032     0.001636    0.000110\n",
       "24     5.611032     0.001636    0.000083\n",
       "25     5.611032     0.001636    0.000090\n",
       "26     5.611032     0.001636    0.000152\n",
       "27     5.611032     0.001636    0.000119\n",
       "28     5.611032     0.001636    0.000097\n",
       "29     5.611032     0.001636    0.000114\n",
       "30     5.611032     0.001636    0.000135\n",
       "31     5.611032     0.001636    0.000107\n",
       "32     5.611032     0.001636    0.000111\n",
       "33     5.611032     0.001636    0.000167\n",
       "34     5.611032     0.001636    0.000141\n",
       "35     5.611032     0.001636    0.000038\n",
       "36     5.611032     0.001636    0.000004\n",
       "37     5.611032     0.001636    0.000003\n",
       "38     5.611032     0.001636    0.000015\n",
       "39     5.611032     0.001636    0.000105\n",
       "40     5.611032     0.001636    0.000086\n",
       "41     5.611032     0.001636    0.000083\n",
       "42     5.611032     0.001636    0.000130\n",
       "43     5.611032     0.001636    0.000079\n",
       "44     5.611032     0.001636    0.000076\n",
       "45     5.610867     0.001642    0.000039\n",
       "46     5.610742     0.001646    0.000038\n",
       "47     5.610964     0.001639    0.000057\n",
       "48     5.610368     0.001658    0.000025\n",
       "49     5.607224     0.001765   -0.000108\n",
       "50     5.606640     0.001786   -0.000013\n",
       "51     5.606118     0.001804   -0.000026\n",
       "52     5.606934     0.001775   -0.000028\n",
       "53     5.606871     0.001778    0.000011\n",
       "54     5.605461     0.001828    0.000054\n",
       "55     5.605201     0.001838   -0.000054\n",
       "56     5.604061     0.001880    0.000018\n",
       "57     5.604791     0.001853   -0.000116\n",
       "58     5.604745     0.001855   -0.000154\n",
       "59     5.603069     0.001918   -0.000099"
      ]
     },
     "execution_count": 155,
     "metadata": {},
     "output_type": "execute_result"
    }
   ],
   "source": [
    "x = dataset.iloc[:, :-1]\n",
    "y = dataset.iloc[:, 3]\n",
    "x"
   ]
  },
  {
   "cell_type": "markdown",
   "id": "ae5b3d08",
   "metadata": {},
   "source": [
    "## TRAINING THE DATASET"
   ]
  },
  {
   "cell_type": "code",
   "execution_count": 136,
   "id": "1267db93",
   "metadata": {},
   "outputs": [],
   "source": [
    "x_train, x_test, y_train, y_test = train_test_split(x, y, test_size = 0.2, random_state = 0)"
   ]
  },
  {
   "cell_type": "markdown",
   "id": "18195dcc",
   "metadata": {},
   "source": [
    "## 1) MULTIPLE LINEAR REGRESSION"
   ]
  },
  {
   "cell_type": "code",
   "execution_count": 137,
   "id": "89e932f9",
   "metadata": {},
   "outputs": [
    {
     "data": {
      "text/html": [
       "<style>#sk-container-id-10 {color: black;}#sk-container-id-10 pre{padding: 0;}#sk-container-id-10 div.sk-toggleable {background-color: white;}#sk-container-id-10 label.sk-toggleable__label {cursor: pointer;display: block;width: 100%;margin-bottom: 0;padding: 0.3em;box-sizing: border-box;text-align: center;}#sk-container-id-10 label.sk-toggleable__label-arrow:before {content: \"▸\";float: left;margin-right: 0.25em;color: #696969;}#sk-container-id-10 label.sk-toggleable__label-arrow:hover:before {color: black;}#sk-container-id-10 div.sk-estimator:hover label.sk-toggleable__label-arrow:before {color: black;}#sk-container-id-10 div.sk-toggleable__content {max-height: 0;max-width: 0;overflow: hidden;text-align: left;background-color: #f0f8ff;}#sk-container-id-10 div.sk-toggleable__content pre {margin: 0.2em;color: black;border-radius: 0.25em;background-color: #f0f8ff;}#sk-container-id-10 input.sk-toggleable__control:checked~div.sk-toggleable__content {max-height: 200px;max-width: 100%;overflow: auto;}#sk-container-id-10 input.sk-toggleable__control:checked~label.sk-toggleable__label-arrow:before {content: \"▾\";}#sk-container-id-10 div.sk-estimator input.sk-toggleable__control:checked~label.sk-toggleable__label {background-color: #d4ebff;}#sk-container-id-10 div.sk-label input.sk-toggleable__control:checked~label.sk-toggleable__label {background-color: #d4ebff;}#sk-container-id-10 input.sk-hidden--visually {border: 0;clip: rect(1px 1px 1px 1px);clip: rect(1px, 1px, 1px, 1px);height: 1px;margin: -1px;overflow: hidden;padding: 0;position: absolute;width: 1px;}#sk-container-id-10 div.sk-estimator {font-family: monospace;background-color: #f0f8ff;border: 1px dotted black;border-radius: 0.25em;box-sizing: border-box;margin-bottom: 0.5em;}#sk-container-id-10 div.sk-estimator:hover {background-color: #d4ebff;}#sk-container-id-10 div.sk-parallel-item::after {content: \"\";width: 100%;border-bottom: 1px solid gray;flex-grow: 1;}#sk-container-id-10 div.sk-label:hover label.sk-toggleable__label {background-color: #d4ebff;}#sk-container-id-10 div.sk-serial::before {content: \"\";position: absolute;border-left: 1px solid gray;box-sizing: border-box;top: 0;bottom: 0;left: 50%;z-index: 0;}#sk-container-id-10 div.sk-serial {display: flex;flex-direction: column;align-items: center;background-color: white;padding-right: 0.2em;padding-left: 0.2em;position: relative;}#sk-container-id-10 div.sk-item {position: relative;z-index: 1;}#sk-container-id-10 div.sk-parallel {display: flex;align-items: stretch;justify-content: center;background-color: white;position: relative;}#sk-container-id-10 div.sk-item::before, #sk-container-id-10 div.sk-parallel-item::before {content: \"\";position: absolute;border-left: 1px solid gray;box-sizing: border-box;top: 0;bottom: 0;left: 50%;z-index: -1;}#sk-container-id-10 div.sk-parallel-item {display: flex;flex-direction: column;z-index: 1;position: relative;background-color: white;}#sk-container-id-10 div.sk-parallel-item:first-child::after {align-self: flex-end;width: 50%;}#sk-container-id-10 div.sk-parallel-item:last-child::after {align-self: flex-start;width: 50%;}#sk-container-id-10 div.sk-parallel-item:only-child::after {width: 0;}#sk-container-id-10 div.sk-dashed-wrapped {border: 1px dashed gray;margin: 0 0.4em 0.5em 0.4em;box-sizing: border-box;padding-bottom: 0.4em;background-color: white;}#sk-container-id-10 div.sk-label label {font-family: monospace;font-weight: bold;display: inline-block;line-height: 1.2em;}#sk-container-id-10 div.sk-label-container {text-align: center;}#sk-container-id-10 div.sk-container {/* jupyter's `normalize.less` sets `[hidden] { display: none; }` but bootstrap.min.css set `[hidden] { display: none !important; }` so we also need the `!important` here to be able to override the default hidden behavior on the sphinx rendered scikit-learn.org. See: https://github.com/scikit-learn/scikit-learn/issues/21755 */display: inline-block !important;position: relative;}#sk-container-id-10 div.sk-text-repr-fallback {display: none;}</style><div id=\"sk-container-id-10\" class=\"sk-top-container\"><div class=\"sk-text-repr-fallback\"><pre>LinearRegression()</pre><b>In a Jupyter environment, please rerun this cell to show the HTML representation or trust the notebook. <br />On GitHub, the HTML representation is unable to render, please try loading this page with nbviewer.org.</b></div><div class=\"sk-container\" hidden><div class=\"sk-item\"><div class=\"sk-estimator sk-toggleable\"><input class=\"sk-toggleable__control sk-hidden--visually\" id=\"sk-estimator-id-10\" type=\"checkbox\" checked><label for=\"sk-estimator-id-10\" class=\"sk-toggleable__label sk-toggleable__label-arrow\">LinearRegression</label><div class=\"sk-toggleable__content\"><pre>LinearRegression()</pre></div></div></div></div></div>"
      ],
      "text/plain": [
       "LinearRegression()"
      ]
     },
     "execution_count": 137,
     "metadata": {},
     "output_type": "execute_result"
    }
   ],
   "source": [
    "# Fitting Multiple Linear Regression to the Training set\n",
    "\n",
    "regressor = LinearRegression()\n",
    "regressor.fit(x_train, y_train)"
   ]
  },
  {
   "cell_type": "code",
   "execution_count": 138,
   "id": "82ca5543",
   "metadata": {},
   "outputs": [],
   "source": [
    "# Predicting the Test set results\n",
    "\n",
    "y_pred = regressor.predict(x_test)"
   ]
  },
  {
   "cell_type": "code",
   "execution_count": 139,
   "id": "4ae0e083",
   "metadata": {},
   "outputs": [
    {
     "data": {
      "text/plain": [
       "0.7623975680743708"
      ]
     },
     "execution_count": 139,
     "metadata": {},
     "output_type": "execute_result"
    }
   ],
   "source": [
    "# Obtaining accuracy\n",
    "\n",
    "multivariate_score=r2_score(y_test,y_pred)\n",
    "multivariate_score"
   ]
  },
  {
   "cell_type": "code",
   "execution_count": 140,
   "id": "c86d3156",
   "metadata": {},
   "outputs": [
    {
     "data": {
      "text/plain": [
       "2.649162833308554"
      ]
     },
     "execution_count": 140,
     "metadata": {},
     "output_type": "execute_result"
    }
   ],
   "source": [
    "#finding intercept\n",
    "\n",
    "intercept=regressor.intercept_\n",
    "intercept"
   ]
  },
  {
   "cell_type": "code",
   "execution_count": 141,
   "id": "b14111bf",
   "metadata": {},
   "outputs": [
    {
     "data": {
      "text/plain": [
       "array([ -0.46806849, -14.00517366,   1.14973782])"
      ]
     },
     "execution_count": 141,
     "metadata": {},
     "output_type": "execute_result"
    }
   ],
   "source": [
    "#finding coefficients\n",
    "\n",
    "coefficients=regressor.coef_\n",
    "coefficients"
   ]
  },
  {
   "cell_type": "code",
   "execution_count": 142,
   "id": "166cf97c",
   "metadata": {},
   "outputs": [
    {
     "data": {
      "image/png": "[encoded data removed]",
      "text/plain": [
       "<Figure size 640x480 with 1 Axes>"
      ]
     },
     "metadata": {},
     "output_type": "display_data"
    }
   ],
   "source": [
    "# plotting the points   \n",
    "plt.plot(y_test,y_pred,\"ob\")  \n",
    "    \n",
    "# naming the x axis  \n",
    "plt.xlabel('y_test')  \n",
    "# naming the y axis  \n",
    "plt.ylabel('y_pred')  \n",
    "    \n",
    "# giving a title to my graph  \n",
    "plt.title('Multivariate Linear regression')  \n",
    "    \n",
    "# function to show the plot  \n",
    "plt.show()  "
   ]
  },
  {
   "cell_type": "markdown",
   "id": "d469defe",
   "metadata": {},
   "source": [
    "## 2) POLYNOMIAL REGRESSION"
   ]
  },
  {
   "cell_type": "code",
   "execution_count": 157,
   "id": "6ad8914c",
   "metadata": {},
   "outputs": [
    {
     "name": "stdout",
     "output_type": "stream",
     "text": [
      "Polynomial Regression R^2: 0.8212432384383868\n",
      "mse 4.437254892622445e-09\n",
      "Coefficients: [ 0.00000000e+00 -2.30555436e+06  5.80336522e+07 -7.83146680e+07\n",
      " -9.24593900e+05  1.51354440e+08  2.77524861e+07 -2.08296973e+07\n",
      "  1.13516344e+08 -2.17083483e+09  1.30846522e+05 -2.93577372e+07\n",
      " -2.45877835e+06 -1.00944812e+08 -1.96351804e+07  3.83687112e+08\n",
      " -6.52618527e+06  1.87652004e+08  1.09669393e+10  2.25676312e+07]\n",
      "     x0        x1        x2        x3         x4        x5        x6  \\\n",
      "0   1.0  5.611032  0.001636  0.000107  31.483680  0.009182  0.000598   \n",
      "1   1.0  5.611032  0.001636 -0.000135  31.483680  0.009182 -0.000755   \n",
      "2   1.0  5.606934  0.001775 -0.000028  31.437712  0.009954 -0.000159   \n",
      "3   1.0  5.611032  0.001636 -0.000060  31.483680  0.009182 -0.000336   \n",
      "4   1.0  5.611015  0.001637  0.000154  31.483488  0.009185  0.000865   \n",
      "5   1.0  5.611032  0.001636 -0.000033  31.483680  0.009182 -0.000185   \n",
      "6   1.0  5.611032  0.001636  0.000086  31.483680  0.009182  0.000484   \n",
      "7   1.0  5.611032  0.001636 -0.000084  31.483680  0.009182 -0.000470   \n",
      "8   1.0  5.611032  0.001636  0.000079  31.483680  0.009182  0.000444   \n",
      "9   1.0  5.611032  0.001636  0.000100  31.483680  0.009182  0.000558   \n",
      "10  1.0  5.611032  0.001636  0.000141  31.483680  0.009182  0.000793   \n",
      "11  1.0  5.604745  0.001855 -0.000154  31.413168  0.010394 -0.000864   \n",
      "12  1.0  5.611032  0.001636  0.000090  31.483680  0.009182  0.000508   \n",
      "13  1.0  5.604061  0.001880  0.000018  31.405500  0.010536  0.000100   \n",
      "14  1.0  5.611032  0.001636  0.000076  31.483680  0.009182  0.000426   \n",
      "15  1.0  5.611032  0.001636  0.000119  31.483680  0.009182  0.000666   \n",
      "16  1.0  5.610136  0.001666  0.000059  31.473626  0.009345  0.000329   \n",
      "17  1.0  5.611032  0.001636  0.000135  31.483680  0.009182  0.000760   \n",
      "18  1.0  5.611032  0.001636  0.000152  31.483680  0.009182  0.000851   \n",
      "19  1.0  5.611032  0.001636 -0.000061  31.483680  0.009182 -0.000344   \n",
      "20  1.0  5.611032  0.001636  0.000083  31.483680  0.009182  0.000467   \n",
      "21  1.0  5.605201  0.001838 -0.000054  31.418275  0.010301 -0.000303   \n",
      "22  1.0  5.610740  0.001646  0.000007  31.480405  0.009234  0.000039   \n",
      "23  1.0  5.611032  0.001636  0.000111  31.483680  0.009182  0.000623   \n",
      "24  1.0  5.606871  0.001778  0.000011  31.437001  0.009966  0.000059   \n",
      "25  1.0  5.611032  0.001636  0.000083  31.483680  0.009182  0.000467   \n",
      "26  1.0  5.611032  0.001636  0.000003  31.483680  0.009182  0.000014   \n",
      "27  1.0  5.611032  0.001636  0.000114  31.483680  0.009182  0.000642   \n",
      "28  1.0  5.611032  0.001636  0.000076  31.483680  0.009182  0.000426   \n",
      "29  1.0  5.611032  0.001636 -0.000098  31.483680  0.009182 -0.000549   \n",
      "30  1.0  5.611032  0.001636 -0.000015  31.483680  0.009182 -0.000083   \n",
      "31  1.0  5.611032  0.001636 -0.000131  31.483680  0.009182 -0.000733   \n",
      "32  1.0  5.610964  0.001639  0.000057  31.482918  0.009194  0.000318   \n",
      "33  1.0  5.611032  0.001636  0.000105  31.483680  0.009182  0.000588   \n",
      "34  1.0  5.611032  0.001636  0.000038  31.483680  0.009182  0.000215   \n",
      "35  1.0  5.611032  0.001636  0.000110  31.483680  0.009182  0.000618   \n",
      "36  1.0  5.607224  0.001765 -0.000108  31.440961  0.009897 -0.000607   \n",
      "37  1.0  5.611032  0.001636  0.000104  31.483680  0.009182  0.000585   \n",
      "38  1.0  5.611032  0.001636  0.000086  31.483680  0.009182  0.000484   \n",
      "39  1.0  5.611032  0.001636 -0.000007  31.483680  0.009182 -0.000039   \n",
      "40  1.0  5.603069  0.001918 -0.000099  31.394381  0.010745 -0.000556   \n",
      "41  1.0  5.611032  0.001636  0.000126  31.483680  0.009182  0.000707   \n",
      "42  1.0  5.611032  0.001636  0.000147  31.483680  0.009182  0.000827   \n",
      "43  1.0  5.611032  0.001636  0.000130  31.483680  0.009182  0.000730   \n",
      "44  1.0  5.611032  0.001636  0.000055  31.483680  0.009182  0.000307   \n",
      "45  1.0  5.611032  0.001636  0.000097  31.483680  0.009182  0.000544   \n",
      "46  1.0  5.606118  0.001804 -0.000026  31.428554  0.010116 -0.000146   \n",
      "47  1.0  5.611032  0.001636  0.000015  31.483680  0.009182  0.000085   \n",
      "\n",
      "          x7            x8            x9         x10       x11       x12  \\\n",
      "0   0.000003  1.744316e-07  1.136327e-08  176.655934  0.051518  0.003356   \n",
      "1   0.000003 -2.202814e-07  1.812210e-08  176.655934  0.051518 -0.004238   \n",
      "2   0.000003 -5.037817e-08  8.052995e-10  176.269183  0.055810 -0.000892   \n",
      "3   0.000003 -9.791561e-08  3.580608e-09  176.655934  0.051518 -0.001884   \n",
      "4   0.000003  2.522084e-07  2.373982e-08  176.654321  0.051535  0.004851   \n",
      "5   0.000003 -5.402375e-08  1.089990e-09  176.655934  0.051518 -0.001039   \n",
      "6   0.000003  1.411979e-07  7.445770e-09  176.655934  0.051518  0.002717   \n",
      "7   0.000003 -1.369905e-07  7.008644e-09  176.655934  0.051518 -0.002636   \n",
      "8   0.000003  1.294693e-07  6.260180e-09  176.655934  0.051518  0.002491   \n",
      "9   0.000003  1.628160e-07  9.900268e-09  176.655934  0.051518  0.003133   \n",
      "10  0.000003  2.312759e-07  1.997624e-08  176.655934  0.051518  0.004450   \n",
      "11  0.000003 -2.858171e-07  2.375288e-08  176.062796  0.058256 -0.004841   \n",
      "12  0.000003  1.480658e-07  8.187716e-09  176.655934  0.051518  0.002849   \n",
      "13  0.000004  3.367169e-08  3.207740e-10  175.998335  0.059043  0.000562   \n",
      "14  0.000003  1.243742e-07  5.777146e-09  176.655934  0.051518  0.002393   \n",
      "15  0.000003  1.943104e-07  1.410084e-08  176.655934  0.051518  0.003739   \n",
      "16  0.000003  9.765758e-08  3.437263e-09  176.571318  0.052426  0.001845   \n",
      "17  0.000003  2.216182e-07  1.834273e-08  176.655934  0.051518  0.004264   \n",
      "18  0.000003  2.480949e-07  2.298734e-08  176.655934  0.051518  0.004773   \n",
      "19  0.000003 -1.002227e-07  3.751329e-09  176.655934  0.051518 -0.001928   \n",
      "20  0.000003  1.362950e-07  6.937661e-09  176.655934  0.051518  0.002622   \n",
      "21  0.000003 -9.947132e-08  2.929793e-09  176.105735  0.057738 -0.001701   \n",
      "22  0.000003  1.143131e-08  4.824075e-11  176.628372  0.051812  0.000219   \n",
      "23  0.000003  1.816975e-07  1.232965e-08  176.655934  0.051518  0.003496   \n",
      "24  0.000003  1.879783e-08  1.118385e-10  176.263207  0.055880  0.000332   \n",
      "25  0.000003  1.361809e-07  6.926048e-09  176.655934  0.051518  0.002620   \n",
      "26  0.000003  4.112339e-09  6.315835e-12  176.655934  0.051518  0.000079   \n",
      "27  0.000003  1.871770e-07  1.308452e-08  176.655934  0.051518  0.003601   \n",
      "28  0.000003  1.243712e-07  5.776867e-09  176.655934  0.051518  0.002393   \n",
      "29  0.000003 -1.601661e-07  9.580634e-09  176.655934  0.051518 -0.003082   \n",
      "30  0.000003 -2.419918e-08  2.187027e-10  176.655934  0.051518 -0.000466   \n",
      "31  0.000003 -2.138115e-07  1.707320e-08  176.655934  0.051518 -0.004114   \n",
      "32  0.000003  9.291566e-08  3.215590e-09  176.649523  0.051586  0.001785   \n",
      "33  0.000003  1.714031e-07  1.097211e-08  176.655934  0.051518  0.003298   \n",
      "34  0.000003  6.282007e-08  1.473838e-09  176.655934  0.051518  0.001209   \n",
      "35  0.000003  1.801964e-07  1.212677e-08  176.655934  0.051518  0.003467   \n",
      "36  0.000003 -1.910343e-07  1.171410e-08  176.296508  0.055495 -0.003403   \n",
      "37  0.000003  1.706505e-07  1.087597e-08  176.655934  0.051518  0.003283   \n",
      "38  0.000003  1.411221e-07  7.437771e-09  176.655934  0.051518  0.002715   \n",
      "39  0.000003 -1.132344e-08  4.788616e-11  176.655934  0.051518 -0.000218   \n",
      "40  0.000004 -1.902396e-07  9.841043e-09  175.904878  0.060205 -0.003114   \n",
      "41  0.000003  2.063039e-07  1.589527e-08  176.655934  0.051518  0.003969   \n",
      "42  0.000003  2.411224e-07  2.171342e-08  176.655934  0.051518  0.004639   \n",
      "43  0.000003  2.127631e-07  1.690619e-08  176.655934  0.051518  0.004094   \n",
      "44  0.000003  8.951154e-08  2.992341e-09  176.655934  0.051518  0.001722   \n",
      "45  0.000003  1.587729e-07  9.414685e-09  176.655934  0.051518  0.003055   \n",
      "46  0.000003 -4.694287e-08  6.768159e-10  176.192170  0.056710 -0.000818   \n",
      "47  0.000003  2.490875e-08  2.317164e-10  176.655934  0.051518  0.000479   \n",
      "\n",
      "         x13           x14           x15           x16           x17  \\\n",
      "0   0.000015  9.787413e-07  6.375967e-08  4.381477e-09  2.854294e-10   \n",
      "1   0.000015 -1.236006e-06  1.016837e-07  4.381477e-09 -3.604552e-10   \n",
      "2   0.000018 -2.824671e-07  4.515261e-09  5.594883e-09 -8.943470e-11   \n",
      "3   0.000015 -5.494076e-07  2.009091e-08  4.381477e-09 -1.602232e-10   \n",
      "4   0.000015  1.415145e-06  1.332045e-07  4.385935e-09  4.128385e-10   \n",
      "5   0.000015 -3.031290e-07  6.115967e-09  4.381477e-09 -8.840121e-11   \n",
      "6   0.000015  7.922661e-07  4.177845e-08  4.381477e-09  2.310478e-10   \n",
      "7   0.000015 -7.686582e-07  3.932572e-08  4.381477e-09 -2.241630e-10   \n",
      "8   0.000015  7.264566e-07  3.512607e-08  4.381477e-09  2.118558e-10   \n",
      "9   0.000015  9.135656e-07  5.555072e-08  4.381477e-09  2.664222e-10   \n",
      "10  0.000015  1.297696e-06  1.120873e-07  4.381477e-09  3.784460e-10   \n",
      "11  0.000019 -1.601932e-06  1.331288e-07  6.378083e-09 -5.300517e-10   \n",
      "12  0.000015  8.308022e-07  4.594154e-08  4.381477e-09  2.422860e-10   \n",
      "13  0.000020  1.886982e-07  1.797637e-09  6.645018e-09  6.330388e-11   \n",
      "14  0.000015  6.978674e-07  3.241575e-08  4.381477e-09  2.035184e-10   \n",
      "15  0.000015  1.090282e-06  7.912029e-08  4.381477e-09  3.179579e-10   \n",
      "16  0.000016  5.478723e-07  1.928351e-08  4.621668e-09  1.626693e-10   \n",
      "17  0.000015  1.243507e-06  1.029216e-07  4.381477e-09  3.626428e-10   \n",
      "18  0.000015  1.392068e-06  1.289827e-07  4.381477e-09  4.059676e-10   \n",
      "19  0.000015 -5.623527e-07  2.104882e-08  4.381477e-09 -1.639984e-10   \n",
      "20  0.000015  7.647558e-07  3.892744e-08  4.381477e-09  2.230250e-10   \n",
      "21  0.000019 -5.575567e-07  1.642208e-08  6.206380e-09 -1.828005e-10   \n",
      "22  0.000015  6.413813e-08  2.706663e-10  4.458281e-09  1.881418e-11   \n",
      "23  0.000015  1.019510e-06  6.918207e-08  4.381477e-09  2.973188e-10   \n",
      "24  0.000018  1.053970e-07  6.270641e-10  5.616116e-09  3.341333e-11   \n",
      "25  0.000015  7.641155e-07  3.886227e-08  4.381477e-09  2.228383e-10   \n",
      "26  0.000015  2.307447e-08  3.543835e-11  4.381477e-09  6.729184e-12   \n",
      "27  0.000015  1.050256e-06  7.341767e-08  4.381477e-09  3.062852e-10   \n",
      "28  0.000015  6.978506e-07  3.241419e-08  4.381477e-09  2.035135e-10   \n",
      "29  0.000015 -8.986972e-07  5.375724e-08  4.381477e-09 -2.620862e-10   \n",
      "30  0.000015 -1.357824e-07  1.227148e-09  4.381477e-09 -3.959808e-11   \n",
      "31  0.000015 -1.199703e-06  9.579827e-08  4.381477e-09 -3.498682e-10   \n",
      "32  0.000015  5.213464e-07  1.804256e-08  4.399220e-09  1.522466e-10   \n",
      "33  0.000015  9.617481e-07  6.156486e-08  4.381477e-09  2.804737e-10   \n",
      "34  0.000015  3.524854e-07  8.269753e-09  4.381477e-09  1.027950e-10   \n",
      "35  0.000015  1.011088e-06  6.804368e-08  4.381477e-09  2.948625e-10   \n",
      "36  0.000017 -1.071172e-06  6.568358e-08  5.498832e-09 -3.371849e-10   \n",
      "37  0.000015  9.575254e-07  6.102543e-08  4.381477e-09  2.792422e-10   \n",
      "38  0.000015  7.918404e-07  4.173357e-08  4.381477e-09  2.309237e-10   \n",
      "39  0.000015 -6.353620e-08  2.686908e-10  4.381477e-09 -1.852900e-11   \n",
      "40  0.000021 -1.065926e-06  5.514004e-08  7.052471e-09 -3.648224e-10   \n",
      "41  0.000015  1.157578e-06  8.918887e-08  4.381477e-09  3.375833e-10   \n",
      "42  0.000015  1.352946e-06  1.218347e-07  4.381477e-09  3.945582e-10   \n",
      "43  0.000015  1.193821e-06  9.486116e-08  4.381477e-09  3.481528e-10   \n",
      "44  0.000015  5.022521e-07  1.679012e-08  4.381477e-09  1.464713e-10   \n",
      "45  0.000015  8.908799e-07  5.282610e-08  4.381477e-09  2.598064e-10   \n",
      "46  0.000018 -2.631672e-07  3.794309e-09  5.874935e-09 -8.470401e-11   \n",
      "47  0.000015  1.397638e-07  1.300168e-09  4.381477e-09  4.075917e-11   \n",
      "\n",
      "             x18           x19  \n",
      "0   1.859417e-11  1.211309e-12  \n",
      "1   2.965391e-11 -2.439567e-12  \n",
      "2   1.429622e-12 -2.285263e-14  \n",
      "3   5.859092e-12 -2.142571e-13  \n",
      "4   3.885959e-11  3.657768e-12  \n",
      "5   1.783594e-12 -3.598600e-14  \n",
      "6   1.218381e-11  6.424871e-13  \n",
      "7   1.146852e-11 -5.867471e-13  \n",
      "8   1.024378e-11  4.953136e-13  \n",
      "9   1.620020e-11  9.850775e-13  \n",
      "10  3.268792e-11  2.823388e-12  \n",
      "11  4.405004e-11 -3.660786e-12  \n",
      "12  1.339789e-11  7.408737e-13  \n",
      "13  6.030655e-13  5.745114e-15  \n",
      "14  9.453374e-12  4.391066e-13  \n",
      "15  2.307377e-11  1.674433e-12  \n",
      "16  5.725485e-12  2.015204e-13  \n",
      "17  3.001494e-11  2.484254e-12  \n",
      "18  3.761509e-11  3.485242e-12  \n",
      "19  6.138448e-12 -2.297617e-13  \n",
      "20  1.135237e-11  5.778560e-13  \n",
      "21  5.384140e-12 -1.585825e-13  \n",
      "22  7.939683e-14  3.350588e-16  \n",
      "23  2.017550e-11  1.369072e-12  \n",
      "24  1.987941e-13  1.182734e-15  \n",
      "25  1.133337e-11  5.764056e-13  \n",
      "26  1.033485e-14  1.587253e-17  \n",
      "27  2.141073e-11  1.496707e-12  \n",
      "28  9.452918e-12  4.390748e-13  \n",
      "29  1.567717e-11 -9.377593e-13  \n",
      "30  3.578720e-13 -3.234308e-15  \n",
      "31  2.793756e-11 -2.230860e-12  \n",
      "32  5.268892e-12  1.823438e-13  \n",
      "33  1.795410e-11  1.149305e-12  \n",
      "34  2.411700e-12  5.658153e-14  \n",
      "35  1.984351e-11  1.335419e-12  \n",
      "36  2.067596e-11 -1.267837e-12  \n",
      "37  1.779679e-11  1.134233e-12  \n",
      "38  1.217072e-11  6.414521e-13  \n",
      "39  7.835803e-14 -3.313714e-16  \n",
      "40  1.887216e-11 -9.762514e-13  \n",
      "41  2.601006e-11  2.004019e-12  \n",
      "42  3.553053e-11  3.199575e-12  \n",
      "43  2.766427e-11  2.198207e-12  \n",
      "44  4.896487e-12  1.636879e-13  \n",
      "45  1.540562e-11  9.135004e-13  \n",
      "46  1.221251e-12 -1.760783e-14  \n",
      "47  3.791667e-13  3.527241e-15  \n"
     ]
    }
   ],
   "source": [
    "from sklearn.preprocessing import PolynomialFeatures, StandardScaler\n",
    "from sklearn.model_selection import train_test_split\n",
    "from sklearn.linear_model import LinearRegression\n",
    "from sklearn.metrics import r2_score\n",
    "import pandas as pd\n",
    "\n",
    "# Assuming 'dataset' is your dataframe containing features and target variable\n",
    "p = dataset.iloc[:, :-1]\n",
    "q = dataset.iloc[:, -1]  # Assuming the target variable is in the last column\n",
    "\n",
    "# Split the data\n",
    "p_train, p_test, q_train, q_test = train_test_split(p, q, test_size=0.2, random_state=42)\n",
    "\n",
    "# Polynomial regression\n",
    "poly = PolynomialFeatures(degree=3)\n",
    "regressor = LinearRegression()\n",
    "\n",
    "# Transform features\n",
    "p_poly_train = poly.fit_transform(p_train)\n",
    "p_poly_test = poly.transform(p_test)\n",
    "\n",
    "# Fit the model\n",
    "regressor.fit(p_poly_train, q_train)\n",
    "\n",
    "# Make predictions\n",
    "q_pred = regressor.predict(p_poly_test)\n",
    "\n",
    "# Evaluate R^2\n",
    "polynomial_score = r2_score(q_test, q_pred)\n",
    "print(\"Polynomial Regression R^2:\", polynomial_score)\n",
    "\n",
    "mse = mean_squared_error(q_test, q_pred)\n",
    "print(\"mse\",mse)\n",
    "\n",
    "# Check coefficients\n",
    "coefficients = regressor.coef_\n",
    "print(\"Coefficients:\", coefficients)\n",
    "\n",
    "# Get the DataFrame with transformed features and column names\n",
    "poly_train_df = pd.DataFrame(p_poly_train, columns=[f'x{i}' for i in range(p_poly_train.shape[1])])\n",
    "\n",
    "# Print the DataFrame to see the transformed features\n",
    "print(poly_train_df)"
   ]
  },
  {
   "cell_type": "markdown",
   "id": "76f92663",
   "metadata": {},
   "source": [
    "## Polynomial_regression_using other degrees"
   ]
  },
  {
   "cell_type": "code",
   "execution_count": 35,
   "id": "676120c9",
   "metadata": {},
   "outputs": [],
   "source": [
    "p = dataset.iloc[:, :-1]\n",
    "q = dataset.iloc[:, 3]"
   ]
  },
  {
   "cell_type": "code",
   "execution_count": 161,
   "id": "7163a50c",
   "metadata": {},
   "outputs": [
    {
     "name": "stdout",
     "output_type": "stream",
     "text": [
      "Polynomial Regression R^2: 0.6368960074297692\n"
     ]
    }
   ],
   "source": [
    "from sklearn.preprocessing import StandardScaler\n",
    "from sklearn.pipeline import make_pipeline\n",
    "\n",
    "# Assuming p and q are already defined\n",
    "p_train, p_test, q_train, q_test = train_test_split(p, q, test_size=0.2, random_state=42)\n",
    "\n",
    "# Use a pipeline for scaling and polynomial regression\n",
    "model = make_pipeline(StandardScaler(), PolynomialFeatures(degree=2), LinearRegression())\n",
    "model.fit(p_train, q_train)\n",
    "\n",
    "q_pred = model.predict(p_test)\n",
    "polynomial_score = r2_score(q_test, q_pred)\n",
    "\n",
    "print(\"Polynomial Regression R^2:\", polynomial_score)"
   ]
  },
  {
   "cell_type": "markdown",
   "id": "aa8df170",
   "metadata": {},
   "source": [
    "## Without scaling the data"
   ]
  },
  {
   "cell_type": "code",
   "execution_count": 162,
   "id": "74cdd070",
   "metadata": {},
   "outputs": [],
   "source": [
    "p_train, p_test, q_train, q_test = train_test_split(p, q, test_size = 0.2, random_state =42)"
   ]
  },
  {
   "cell_type": "code",
   "execution_count": 163,
   "id": "900707da",
   "metadata": {},
   "outputs": [
    {
     "data": {
      "text/html": [
       "<style>#sk-container-id-11 {color: black;}#sk-container-id-11 pre{padding: 0;}#sk-container-id-11 div.sk-toggleable {background-color: white;}#sk-container-id-11 label.sk-toggleable__label {cursor: pointer;display: block;width: 100%;margin-bottom: 0;padding: 0.3em;box-sizing: border-box;text-align: center;}#sk-container-id-11 label.sk-toggleable__label-arrow:before {content: \"▸\";float: left;margin-right: 0.25em;color: #696969;}#sk-container-id-11 label.sk-toggleable__label-arrow:hover:before {color: black;}#sk-container-id-11 div.sk-estimator:hover label.sk-toggleable__label-arrow:before {color: black;}#sk-container-id-11 div.sk-toggleable__content {max-height: 0;max-width: 0;overflow: hidden;text-align: left;background-color: #f0f8ff;}#sk-container-id-11 div.sk-toggleable__content pre {margin: 0.2em;color: black;border-radius: 0.25em;background-color: #f0f8ff;}#sk-container-id-11 input.sk-toggleable__control:checked~div.sk-toggleable__content {max-height: 200px;max-width: 100%;overflow: auto;}#sk-container-id-11 input.sk-toggleable__control:checked~label.sk-toggleable__label-arrow:before {content: \"▾\";}#sk-container-id-11 div.sk-estimator input.sk-toggleable__control:checked~label.sk-toggleable__label {background-color: #d4ebff;}#sk-container-id-11 div.sk-label input.sk-toggleable__control:checked~label.sk-toggleable__label {background-color: #d4ebff;}#sk-container-id-11 input.sk-hidden--visually {border: 0;clip: rect(1px 1px 1px 1px);clip: rect(1px, 1px, 1px, 1px);height: 1px;margin: -1px;overflow: hidden;padding: 0;position: absolute;width: 1px;}#sk-container-id-11 div.sk-estimator {font-family: monospace;background-color: #f0f8ff;border: 1px dotted black;border-radius: 0.25em;box-sizing: border-box;margin-bottom: 0.5em;}#sk-container-id-11 div.sk-estimator:hover {background-color: #d4ebff;}#sk-container-id-11 div.sk-parallel-item::after {content: \"\";width: 100%;border-bottom: 1px solid gray;flex-grow: 1;}#sk-container-id-11 div.sk-label:hover label.sk-toggleable__label {background-color: #d4ebff;}#sk-container-id-11 div.sk-serial::before {content: \"\";position: absolute;border-left: 1px solid gray;box-sizing: border-box;top: 0;bottom: 0;left: 50%;z-index: 0;}#sk-container-id-11 div.sk-serial {display: flex;flex-direction: column;align-items: center;background-color: white;padding-right: 0.2em;padding-left: 0.2em;position: relative;}#sk-container-id-11 div.sk-item {position: relative;z-index: 1;}#sk-container-id-11 div.sk-parallel {display: flex;align-items: stretch;justify-content: center;background-color: white;position: relative;}#sk-container-id-11 div.sk-item::before, #sk-container-id-11 div.sk-parallel-item::before {content: \"\";position: absolute;border-left: 1px solid gray;box-sizing: border-box;top: 0;bottom: 0;left: 50%;z-index: -1;}#sk-container-id-11 div.sk-parallel-item {display: flex;flex-direction: column;z-index: 1;position: relative;background-color: white;}#sk-container-id-11 div.sk-parallel-item:first-child::after {align-self: flex-end;width: 50%;}#sk-container-id-11 div.sk-parallel-item:last-child::after {align-self: flex-start;width: 50%;}#sk-container-id-11 div.sk-parallel-item:only-child::after {width: 0;}#sk-container-id-11 div.sk-dashed-wrapped {border: 1px dashed gray;margin: 0 0.4em 0.5em 0.4em;box-sizing: border-box;padding-bottom: 0.4em;background-color: white;}#sk-container-id-11 div.sk-label label {font-family: monospace;font-weight: bold;display: inline-block;line-height: 1.2em;}#sk-container-id-11 div.sk-label-container {text-align: center;}#sk-container-id-11 div.sk-container {/* jupyter's `normalize.less` sets `[hidden] { display: none; }` but bootstrap.min.css set `[hidden] { display: none !important; }` so we also need the `!important` here to be able to override the default hidden behavior on the sphinx rendered scikit-learn.org. See: https://github.com/scikit-learn/scikit-learn/issues/21755 */display: inline-block !important;position: relative;}#sk-container-id-11 div.sk-text-repr-fallback {display: none;}</style><div id=\"sk-container-id-11\" class=\"sk-top-container\"><div class=\"sk-text-repr-fallback\"><pre>LinearRegression()</pre><b>In a Jupyter environment, please rerun this cell to show the HTML representation or trust the notebook. <br />On GitHub, the HTML representation is unable to render, please try loading this page with nbviewer.org.</b></div><div class=\"sk-container\" hidden><div class=\"sk-item\"><div class=\"sk-estimator sk-toggleable\"><input class=\"sk-toggleable__control sk-hidden--visually\" id=\"sk-estimator-id-11\" type=\"checkbox\" checked><label for=\"sk-estimator-id-11\" class=\"sk-toggleable__label sk-toggleable__label-arrow\">LinearRegression</label><div class=\"sk-toggleable__content\"><pre>LinearRegression()</pre></div></div></div></div></div>"
      ],
      "text/plain": [
       "LinearRegression()"
      ]
     },
     "execution_count": 163,
     "metadata": {},
     "output_type": "execute_result"
    }
   ],
   "source": [
    "poly = PolynomialFeatures(degree=2)\n",
    "regre= LinearRegression()\n",
    "p_poly_train = poly.fit_transform(p_train)\n",
    "p_test_poly = poly.transform(p_test)\n",
    "poly.fit(p_poly_train, q_train)\n",
    "regre.fit(p_poly_train, q_train)"
   ]
  },
  {
   "cell_type": "code",
   "execution_count": 164,
   "id": "dc57a5f8",
   "metadata": {},
   "outputs": [],
   "source": [
    "q_pred=regre.predict(p_test_poly)"
   ]
  },
  {
   "cell_type": "code",
   "execution_count": 165,
   "id": "e1166e09",
   "metadata": {},
   "outputs": [
    {
     "data": {
      "image/png": "[encoded data removed]",
      "text/plain": [
       "<Figure size 640x480 with 1 Axes>"
      ]
     },
     "metadata": {},
     "output_type": "display_data"
    },
    {
     "data": {
      "image/png": "[encoded data removed]",
      "text/plain": [
       "<Figure size 640x480 with 1 Axes>"
      ]
     },
     "metadata": {},
     "output_type": "display_data"
    }
   ],
   "source": [
    "import seaborn as sns\n",
    "import matplotlib.pyplot as plt\n",
    "\n",
    "\n",
    "# Assuming p_test, q_test, and q_pred are already defined\n",
    "residuals = q_test - q_pred\n",
    "\n",
    "# Residual plot\n",
    "plt.scatter(q_pred, residuals, color='blue', alpha=0.6)\n",
    "plt.axhline(y=0, color='red', linestyle='--', linewidth=2)  # Add a horizontal line at y=0 for reference\n",
    "plt.title('Residual Plot')\n",
    "plt.xlabel('Predicted Values')\n",
    "plt.ylabel('Residuals')\n",
    "plt.show()\n",
    "\n",
    "# Q-Q plot\n",
    "import statsmodels.api as sm\n",
    "sm.qqplot(residuals, line='s')\n",
    "plt.title('Q-Q Plot of Residuals')\n",
    "plt.show()"
   ]
  },
  {
   "cell_type": "code",
   "execution_count": 166,
   "id": "55811835",
   "metadata": {},
   "outputs": [
    {
     "data": {
      "text/plain": [
       "0.6367627486664135"
      ]
     },
     "execution_count": 166,
     "metadata": {},
     "output_type": "execute_result"
    }
   ],
   "source": [
    "polynomial_score=r2_score(q_test,q_pred)\n",
    "polynomial_score"
   ]
  },
  {
   "cell_type": "code",
   "execution_count": 167,
   "id": "f8136acf",
   "metadata": {},
   "outputs": [
    {
     "data": {
      "text/plain": [
       "array([ 0.00000000e+00,  4.70116592e+07, -2.97179779e+09,  1.57288676e+05,\n",
       "       -4.09924796e+06,  5.38972600e+08, -2.78011084e+04,  1.78868058e+09,\n",
       "       -7.91125556e+05, -7.89519885e+03])"
      ]
     },
     "execution_count": 167,
     "metadata": {},
     "output_type": "execute_result"
    }
   ],
   "source": [
    "regre.coef_"
   ]
  },
  {
   "cell_type": "markdown",
   "id": "4e0e1819",
   "metadata": {},
   "source": [
    "## scaling the data\n"
   ]
  },
  {
   "cell_type": "code",
   "execution_count": 168,
   "id": "706dfe9d",
   "metadata": {},
   "outputs": [],
   "source": [
    "scaler = StandardScaler()\n",
    "p_train_scaler = scaler.fit_transform(p_train)\n",
    "p_test_scaler = scaler.transform(p_test)"
   ]
  },
  {
   "cell_type": "code",
   "execution_count": 169,
   "id": "f1b9315f",
   "metadata": {},
   "outputs": [
    {
     "data": {
      "text/html": [
       "<style>#sk-container-id-12 {color: black;}#sk-container-id-12 pre{padding: 0;}#sk-container-id-12 div.sk-toggleable {background-color: white;}#sk-container-id-12 label.sk-toggleable__label {cursor: pointer;display: block;width: 100%;margin-bottom: 0;padding: 0.3em;box-sizing: border-box;text-align: center;}#sk-container-id-12 label.sk-toggleable__label-arrow:before {content: \"▸\";float: left;margin-right: 0.25em;color: #696969;}#sk-container-id-12 label.sk-toggleable__label-arrow:hover:before {color: black;}#sk-container-id-12 div.sk-estimator:hover label.sk-toggleable__label-arrow:before {color: black;}#sk-container-id-12 div.sk-toggleable__content {max-height: 0;max-width: 0;overflow: hidden;text-align: left;background-color: #f0f8ff;}#sk-container-id-12 div.sk-toggleable__content pre {margin: 0.2em;color: black;border-radius: 0.25em;background-color: #f0f8ff;}#sk-container-id-12 input.sk-toggleable__control:checked~div.sk-toggleable__content {max-height: 200px;max-width: 100%;overflow: auto;}#sk-container-id-12 input.sk-toggleable__control:checked~label.sk-toggleable__label-arrow:before {content: \"▾\";}#sk-container-id-12 div.sk-estimator input.sk-toggleable__control:checked~label.sk-toggleable__label {background-color: #d4ebff;}#sk-container-id-12 div.sk-label input.sk-toggleable__control:checked~label.sk-toggleable__label {background-color: #d4ebff;}#sk-container-id-12 input.sk-hidden--visually {border: 0;clip: rect(1px 1px 1px 1px);clip: rect(1px, 1px, 1px, 1px);height: 1px;margin: -1px;overflow: hidden;padding: 0;position: absolute;width: 1px;}#sk-container-id-12 div.sk-estimator {font-family: monospace;background-color: #f0f8ff;border: 1px dotted black;border-radius: 0.25em;box-sizing: border-box;margin-bottom: 0.5em;}#sk-container-id-12 div.sk-estimator:hover {background-color: #d4ebff;}#sk-container-id-12 div.sk-parallel-item::after {content: \"\";width: 100%;border-bottom: 1px solid gray;flex-grow: 1;}#sk-container-id-12 div.sk-label:hover label.sk-toggleable__label {background-color: #d4ebff;}#sk-container-id-12 div.sk-serial::before {content: \"\";position: absolute;border-left: 1px solid gray;box-sizing: border-box;top: 0;bottom: 0;left: 50%;z-index: 0;}#sk-container-id-12 div.sk-serial {display: flex;flex-direction: column;align-items: center;background-color: white;padding-right: 0.2em;padding-left: 0.2em;position: relative;}#sk-container-id-12 div.sk-item {position: relative;z-index: 1;}#sk-container-id-12 div.sk-parallel {display: flex;align-items: stretch;justify-content: center;background-color: white;position: relative;}#sk-container-id-12 div.sk-item::before, #sk-container-id-12 div.sk-parallel-item::before {content: \"\";position: absolute;border-left: 1px solid gray;box-sizing: border-box;top: 0;bottom: 0;left: 50%;z-index: -1;}#sk-container-id-12 div.sk-parallel-item {display: flex;flex-direction: column;z-index: 1;position: relative;background-color: white;}#sk-container-id-12 div.sk-parallel-item:first-child::after {align-self: flex-end;width: 50%;}#sk-container-id-12 div.sk-parallel-item:last-child::after {align-self: flex-start;width: 50%;}#sk-container-id-12 div.sk-parallel-item:only-child::after {width: 0;}#sk-container-id-12 div.sk-dashed-wrapped {border: 1px dashed gray;margin: 0 0.4em 0.5em 0.4em;box-sizing: border-box;padding-bottom: 0.4em;background-color: white;}#sk-container-id-12 div.sk-label label {font-family: monospace;font-weight: bold;display: inline-block;line-height: 1.2em;}#sk-container-id-12 div.sk-label-container {text-align: center;}#sk-container-id-12 div.sk-container {/* jupyter's `normalize.less` sets `[hidden] { display: none; }` but bootstrap.min.css set `[hidden] { display: none !important; }` so we also need the `!important` here to be able to override the default hidden behavior on the sphinx rendered scikit-learn.org. See: https://github.com/scikit-learn/scikit-learn/issues/21755 */display: inline-block !important;position: relative;}#sk-container-id-12 div.sk-text-repr-fallback {display: none;}</style><div id=\"sk-container-id-12\" class=\"sk-top-container\"><div class=\"sk-text-repr-fallback\"><pre>LinearRegression()</pre><b>In a Jupyter environment, please rerun this cell to show the HTML representation or trust the notebook. <br />On GitHub, the HTML representation is unable to render, please try loading this page with nbviewer.org.</b></div><div class=\"sk-container\" hidden><div class=\"sk-item\"><div class=\"sk-estimator sk-toggleable\"><input class=\"sk-toggleable__control sk-hidden--visually\" id=\"sk-estimator-id-12\" type=\"checkbox\" checked><label for=\"sk-estimator-id-12\" class=\"sk-toggleable__label sk-toggleable__label-arrow\">LinearRegression</label><div class=\"sk-toggleable__content\"><pre>LinearRegression()</pre></div></div></div></div></div>"
      ],
      "text/plain": [
       "LinearRegression()"
      ]
     },
     "execution_count": 169,
     "metadata": {},
     "output_type": "execute_result"
    }
   ],
   "source": [
    "poly = PolynomialFeatures(degree=2)\n",
    "p_poly_train = poly.fit_transform(p_train_scaler)\n",
    "p_test_poly = poly.transform(p_test_scaler)\n",
    "poly.fit(p_poly_train, q_train)\n",
    "regressor.fit(p_poly_train, q_train)"
   ]
  },
  {
   "cell_type": "code",
   "execution_count": 170,
   "id": "849e6567",
   "metadata": {},
   "outputs": [],
   "source": [
    "q_pred = regressor.predict(p_test_poly)"
   ]
  },
  {
   "cell_type": "code",
   "execution_count": 171,
   "id": "90a64432",
   "metadata": {},
   "outputs": [],
   "source": [
    "polynomial_score=r2_score(q_test,q_pred)"
   ]
  },
  {
   "cell_type": "code",
   "execution_count": 172,
   "id": "f7a6fda2",
   "metadata": {},
   "outputs": [
    {
     "data": {
      "text/plain": [
       "0.6368960074297692"
      ]
     },
     "execution_count": 172,
     "metadata": {},
     "output_type": "execute_result"
    }
   ],
   "source": [
    "polynomial_score"
   ]
  },
  {
   "cell_type": "code",
   "execution_count": 173,
   "id": "3806f069",
   "metadata": {},
   "outputs": [
    {
     "data": {
      "image/png": "[encoded data removed]",
      "text/plain": [
       "<Figure size 640x480 with 1 Axes>"
      ]
     },
     "metadata": {},
     "output_type": "display_data"
    }
   ],
   "source": [
    "# plotting the points   \n",
    "plt.plot(q_test,q_pred,\"ob\")  \n",
    "    \n",
    "# naming the x axis  \n",
    "plt.xlabel('q_test')  \n",
    "# naming the y axis  \n",
    "plt.ylabel('q_pred')  \n",
    "    \n",
    "# giving a title to my graph  \n",
    "plt.title('Polynomial regression')  \n",
    "    \n",
    "# function to show the plot  \n",
    "plt.show() "
   ]
  },
  {
   "cell_type": "markdown",
   "id": "606e2da3",
   "metadata": {},
   "source": [
    "## 3) RANDOM FOREST REGRESSION"
   ]
  },
  {
   "cell_type": "code",
   "execution_count": 197,
   "id": "eacad338",
   "metadata": {},
   "outputs": [],
   "source": [
    "a = dataset.iloc[:, :-1]\n",
    "b = dataset.iloc[:, 3]\n",
    "\n",
    "a_train, a_test, b_train, b_test = train_test_split(a, b, test_size = 0.2, random_state = 42)"
   ]
  },
  {
   "cell_type": "code",
   "execution_count": 198,
   "id": "461d9e78",
   "metadata": {},
   "outputs": [
    {
     "data": {
      "text/html": [
       "<style>#sk-container-id-20 {color: black;}#sk-container-id-20 pre{padding: 0;}#sk-container-id-20 div.sk-toggleable {background-color: white;}#sk-container-id-20 label.sk-toggleable__label {cursor: pointer;display: block;width: 100%;margin-bottom: 0;padding: 0.3em;box-sizing: border-box;text-align: center;}#sk-container-id-20 label.sk-toggleable__label-arrow:before {content: \"▸\";float: left;margin-right: 0.25em;color: #696969;}#sk-container-id-20 label.sk-toggleable__label-arrow:hover:before {color: black;}#sk-container-id-20 div.sk-estimator:hover label.sk-toggleable__label-arrow:before {color: black;}#sk-container-id-20 div.sk-toggleable__content {max-height: 0;max-width: 0;overflow: hidden;text-align: left;background-color: #f0f8ff;}#sk-container-id-20 div.sk-toggleable__content pre {margin: 0.2em;color: black;border-radius: 0.25em;background-color: #f0f8ff;}#sk-container-id-20 input.sk-toggleable__control:checked~div.sk-toggleable__content {max-height: 200px;max-width: 100%;overflow: auto;}#sk-container-id-20 input.sk-toggleable__control:checked~label.sk-toggleable__label-arrow:before {content: \"▾\";}#sk-container-id-20 div.sk-estimator input.sk-toggleable__control:checked~label.sk-toggleable__label {background-color: #d4ebff;}#sk-container-id-20 div.sk-label input.sk-toggleable__control:checked~label.sk-toggleable__label {background-color: #d4ebff;}#sk-container-id-20 input.sk-hidden--visually {border: 0;clip: rect(1px 1px 1px 1px);clip: rect(1px, 1px, 1px, 1px);height: 1px;margin: -1px;overflow: hidden;padding: 0;position: absolute;width: 1px;}#sk-container-id-20 div.sk-estimator {font-family: monospace;background-color: #f0f8ff;border: 1px dotted black;border-radius: 0.25em;box-sizing: border-box;margin-bottom: 0.5em;}#sk-container-id-20 div.sk-estimator:hover {background-color: #d4ebff;}#sk-container-id-20 div.sk-parallel-item::after {content: \"\";width: 100%;border-bottom: 1px solid gray;flex-grow: 1;}#sk-container-id-20 div.sk-label:hover label.sk-toggleable__label {background-color: #d4ebff;}#sk-container-id-20 div.sk-serial::before {content: \"\";position: absolute;border-left: 1px solid gray;box-sizing: border-box;top: 0;bottom: 0;left: 50%;z-index: 0;}#sk-container-id-20 div.sk-serial {display: flex;flex-direction: column;align-items: center;background-color: white;padding-right: 0.2em;padding-left: 0.2em;position: relative;}#sk-container-id-20 div.sk-item {position: relative;z-index: 1;}#sk-container-id-20 div.sk-parallel {display: flex;align-items: stretch;justify-content: center;background-color: white;position: relative;}#sk-container-id-20 div.sk-item::before, #sk-container-id-20 div.sk-parallel-item::before {content: \"\";position: absolute;border-left: 1px solid gray;box-sizing: border-box;top: 0;bottom: 0;left: 50%;z-index: -1;}#sk-container-id-20 div.sk-parallel-item {display: flex;flex-direction: column;z-index: 1;position: relative;background-color: white;}#sk-container-id-20 div.sk-parallel-item:first-child::after {align-self: flex-end;width: 50%;}#sk-container-id-20 div.sk-parallel-item:last-child::after {align-self: flex-start;width: 50%;}#sk-container-id-20 div.sk-parallel-item:only-child::after {width: 0;}#sk-container-id-20 div.sk-dashed-wrapped {border: 1px dashed gray;margin: 0 0.4em 0.5em 0.4em;box-sizing: border-box;padding-bottom: 0.4em;background-color: white;}#sk-container-id-20 div.sk-label label {font-family: monospace;font-weight: bold;display: inline-block;line-height: 1.2em;}#sk-container-id-20 div.sk-label-container {text-align: center;}#sk-container-id-20 div.sk-container {/* jupyter's `normalize.less` sets `[hidden] { display: none; }` but bootstrap.min.css set `[hidden] { display: none !important; }` so we also need the `!important` here to be able to override the default hidden behavior on the sphinx rendered scikit-learn.org. See: https://github.com/scikit-learn/scikit-learn/issues/21755 */display: inline-block !important;position: relative;}#sk-container-id-20 div.sk-text-repr-fallback {display: none;}</style><div id=\"sk-container-id-20\" class=\"sk-top-container\"><div class=\"sk-text-repr-fallback\"><pre>RandomForestRegressor()</pre><b>In a Jupyter environment, please rerun this cell to show the HTML representation or trust the notebook. <br />On GitHub, the HTML representation is unable to render, please try loading this page with nbviewer.org.</b></div><div class=\"sk-container\" hidden><div class=\"sk-item\"><div class=\"sk-estimator sk-toggleable\"><input class=\"sk-toggleable__control sk-hidden--visually\" id=\"sk-estimator-id-20\" type=\"checkbox\" checked><label for=\"sk-estimator-id-20\" class=\"sk-toggleable__label sk-toggleable__label-arrow\">RandomForestRegressor</label><div class=\"sk-toggleable__content\"><pre>RandomForestRegressor()</pre></div></div></div></div></div>"
      ],
      "text/plain": [
       "RandomForestRegressor()"
      ]
     },
     "execution_count": 198,
     "metadata": {},
     "output_type": "execute_result"
    }
   ],
   "source": [
    "reg = RandomForestRegressor()\n",
    "reg.fit(a_train, b_train)"
   ]
  },
  {
   "cell_type": "code",
   "execution_count": 199,
   "id": "341d0e2b",
   "metadata": {},
   "outputs": [
    {
     "data": {
      "text/plain": [
       "0.9256027014292448"
      ]
     },
     "execution_count": 199,
     "metadata": {},
     "output_type": "execute_result"
    }
   ],
   "source": [
    "b_pred_new = reg.predict(a_test)\n",
    "Random_forest_score=r2_score(b_test,b_pred_new)\n",
    "Random_forest_score"
   ]
  },
  {
   "cell_type": "code",
   "execution_count": 200,
   "id": "4f95fc87",
   "metadata": {},
   "outputs": [
    {
     "data": {
      "image/png": "[encoded data removed]",
      "text/plain": [
       "<Figure size 640x480 with 1 Axes>"
      ]
     },
     "metadata": {},
     "output_type": "display_data"
    }
   ],
   "source": [
    "# plotting the points   \n",
    "plt.plot(b_test,b_pred_new,\"ob\")  \n",
    "    \n",
    "# naming the x axis  \n",
    "plt.xlabel('y_test')  \n",
    "# naming the y axis  \n",
    "plt.ylabel('y_pred')  \n",
    "    \n",
    "# giving a title to my graph  \n",
    "plt.title('Random Forest Regression')  \n",
    "    \n",
    "# function to show the plot  \n",
    "plt.show() "
   ]
  },
  {
   "cell_type": "markdown",
   "id": "29c9d3cc",
   "metadata": {},
   "source": [
    "## 4) SUPPORT VECTOR REGRESSION"
   ]
  },
  {
   "cell_type": "code",
   "execution_count": 211,
   "id": "35a90015",
   "metadata": {},
   "outputs": [
    {
     "name": "stdout",
     "output_type": "stream",
     "text": [
      "Mean Squared Error: 1.291452556089583e-07\n",
      "R^2 Score: -4.202673324466249\n",
      "Dual Coefficients: []\n",
      "Support Vectors: []\n"
     ]
    },
    {
     "data": {
      "image/png": "[encoded data removed]",
      "text/plain": [
       "<Figure size 640x480 with 1 Axes>"
      ]
     },
     "metadata": {},
     "output_type": "display_data"
    }
   ],
   "source": [
    "# Import necessary libraries\n",
    "from sklearn.svm import SVR\n",
    "from sklearn.model_selection import train_test_split\n",
    "from sklearn.preprocessing import StandardScaler\n",
    "import numpy as np\n",
    "\n",
    "# Assuming your data is in X and labels in y\n",
    "X = dataset.iloc[:, :-1]\n",
    "y = dataset.iloc[:, 3]\n",
    "\n",
    "# Split the data into training and testing sets\n",
    "X_train, X_test, y_train, y_test = train_test_split(X, y, test_size=0.2, random_state=42)\n",
    "\n",
    "# Standardize the features (SVR is sensitive to the scale of features)\n",
    "scaler = StandardScaler()\n",
    "X_train_scaled = scaler.fit_transform(X_train)\n",
    "X_test_scaled = scaler.transform(X_test)\n",
    "\n",
    "# Create SVR model\n",
    "svr = SVR(kernel='rbf')  # You can use other kernels like 'rbf' as well\n",
    "\n",
    "# Fit the model to the training data\n",
    "svr.fit(X_train_scaled, y_train)\n",
    "\n",
    "# Make predictions on the test set\n",
    "predictions = svr.predict(X_test_scaled)\n",
    "\n",
    "# Evaluate the model\n",
    "mse = mean_squared_error(y_test, predictions)\n",
    "r2 = r2_score(y_test, predictions)\n",
    "\n",
    "print(\"Mean Squared Error:\", mse)\n",
    "print(\"R^2 Score:\", r2)\n",
    "# After fitting the SVR model\n",
    "dual_coefficients = svr.dual_coef_\n",
    "\n",
    "print(\"Dual Coefficients:\", dual_coefficients)\n",
    "support_vectors = svr.support_vectors_\n",
    "\n",
    "print(\"Support Vectors:\", support_vectors)\n",
    "# plotting the points   \n",
    "plt.plot(y_test,y_pred_new,\"ob\")  \n",
    "    \n",
    "# naming the x axis  \n",
    "plt.xlabel('y_test')  \n",
    "# naming the y axis  \n",
    "plt.ylabel('y_pred')  \n",
    "    \n",
    "# giving a title to my graph  \n",
    "plt.title('Support Vector Regression')  \n",
    "    \n",
    "# function to show the plot  \n",
    "plt.show() "
   ]
  },
  {
   "cell_type": "markdown",
   "id": "4585728b",
   "metadata": {},
   "source": [
    "## 5) DECISION TREE REGRESSION"
   ]
  },
  {
   "cell_type": "code",
   "execution_count": 219,
   "id": "fce236b6",
   "metadata": {},
   "outputs": [
    {
     "data": {
      "text/html": [
       "<style>#sk-container-id-23 {color: black;}#sk-container-id-23 pre{padding: 0;}#sk-container-id-23 div.sk-toggleable {background-color: white;}#sk-container-id-23 label.sk-toggleable__label {cursor: pointer;display: block;width: 100%;margin-bottom: 0;padding: 0.3em;box-sizing: border-box;text-align: center;}#sk-container-id-23 label.sk-toggleable__label-arrow:before {content: \"▸\";float: left;margin-right: 0.25em;color: #696969;}#sk-container-id-23 label.sk-toggleable__label-arrow:hover:before {color: black;}#sk-container-id-23 div.sk-estimator:hover label.sk-toggleable__label-arrow:before {color: black;}#sk-container-id-23 div.sk-toggleable__content {max-height: 0;max-width: 0;overflow: hidden;text-align: left;background-color: #f0f8ff;}#sk-container-id-23 div.sk-toggleable__content pre {margin: 0.2em;color: black;border-radius: 0.25em;background-color: #f0f8ff;}#sk-container-id-23 input.sk-toggleable__control:checked~div.sk-toggleable__content {max-height: 200px;max-width: 100%;overflow: auto;}#sk-container-id-23 input.sk-toggleable__control:checked~label.sk-toggleable__label-arrow:before {content: \"▾\";}#sk-container-id-23 div.sk-estimator input.sk-toggleable__control:checked~label.sk-toggleable__label {background-color: #d4ebff;}#sk-container-id-23 div.sk-label input.sk-toggleable__control:checked~label.sk-toggleable__label {background-color: #d4ebff;}#sk-container-id-23 input.sk-hidden--visually {border: 0;clip: rect(1px 1px 1px 1px);clip: rect(1px, 1px, 1px, 1px);height: 1px;margin: -1px;overflow: hidden;padding: 0;position: absolute;width: 1px;}#sk-container-id-23 div.sk-estimator {font-family: monospace;background-color: #f0f8ff;border: 1px dotted black;border-radius: 0.25em;box-sizing: border-box;margin-bottom: 0.5em;}#sk-container-id-23 div.sk-estimator:hover {background-color: #d4ebff;}#sk-container-id-23 div.sk-parallel-item::after {content: \"\";width: 100%;border-bottom: 1px solid gray;flex-grow: 1;}#sk-container-id-23 div.sk-label:hover label.sk-toggleable__label {background-color: #d4ebff;}#sk-container-id-23 div.sk-serial::before {content: \"\";position: absolute;border-left: 1px solid gray;box-sizing: border-box;top: 0;bottom: 0;left: 50%;z-index: 0;}#sk-container-id-23 div.sk-serial {display: flex;flex-direction: column;align-items: center;background-color: white;padding-right: 0.2em;padding-left: 0.2em;position: relative;}#sk-container-id-23 div.sk-item {position: relative;z-index: 1;}#sk-container-id-23 div.sk-parallel {display: flex;align-items: stretch;justify-content: center;background-color: white;position: relative;}#sk-container-id-23 div.sk-item::before, #sk-container-id-23 div.sk-parallel-item::before {content: \"\";position: absolute;border-left: 1px solid gray;box-sizing: border-box;top: 0;bottom: 0;left: 50%;z-index: -1;}#sk-container-id-23 div.sk-parallel-item {display: flex;flex-direction: column;z-index: 1;position: relative;background-color: white;}#sk-container-id-23 div.sk-parallel-item:first-child::after {align-self: flex-end;width: 50%;}#sk-container-id-23 div.sk-parallel-item:last-child::after {align-self: flex-start;width: 50%;}#sk-container-id-23 div.sk-parallel-item:only-child::after {width: 0;}#sk-container-id-23 div.sk-dashed-wrapped {border: 1px dashed gray;margin: 0 0.4em 0.5em 0.4em;box-sizing: border-box;padding-bottom: 0.4em;background-color: white;}#sk-container-id-23 div.sk-label label {font-family: monospace;font-weight: bold;display: inline-block;line-height: 1.2em;}#sk-container-id-23 div.sk-label-container {text-align: center;}#sk-container-id-23 div.sk-container {/* jupyter's `normalize.less` sets `[hidden] { display: none; }` but bootstrap.min.css set `[hidden] { display: none !important; }` so we also need the `!important` here to be able to override the default hidden behavior on the sphinx rendered scikit-learn.org. See: https://github.com/scikit-learn/scikit-learn/issues/21755 */display: inline-block !important;position: relative;}#sk-container-id-23 div.sk-text-repr-fallback {display: none;}</style><div id=\"sk-container-id-23\" class=\"sk-top-container\"><div class=\"sk-text-repr-fallback\"><pre>DecisionTreeRegressor()</pre><b>In a Jupyter environment, please rerun this cell to show the HTML representation or trust the notebook. <br />On GitHub, the HTML representation is unable to render, please try loading this page with nbviewer.org.</b></div><div class=\"sk-container\" hidden><div class=\"sk-item\"><div class=\"sk-estimator sk-toggleable\"><input class=\"sk-toggleable__control sk-hidden--visually\" id=\"sk-estimator-id-23\" type=\"checkbox\" checked><label for=\"sk-estimator-id-23\" class=\"sk-toggleable__label sk-toggleable__label-arrow\">DecisionTreeRegressor</label><div class=\"sk-toggleable__content\"><pre>DecisionTreeRegressor()</pre></div></div></div></div></div>"
      ],
      "text/plain": [
       "DecisionTreeRegressor()"
      ]
     },
     "execution_count": 219,
     "metadata": {},
     "output_type": "execute_result"
    }
   ],
   "source": [
    "# Assuming your data is in X and labels in y\n",
    "x = dataset.iloc[:, :-1]\n",
    "y = dataset.iloc[:, 3]\n",
    "\n",
    "# Split the data into training and testing sets\n",
    "x_train, x_test, y_train, y_test = train_test_split(x, y, test_size=0.2, random_state=42)\n",
    "rg = DecisionTreeRegressor() \n",
    "rg.fit(x_train, y_train)"
   ]
  },
  {
   "cell_type": "code",
   "execution_count": 220,
   "id": "c83f6339",
   "metadata": {},
   "outputs": [],
   "source": [
    "y_predict = rg.predict(x_test)"
   ]
  },
  {
   "cell_type": "code",
   "execution_count": 221,
   "id": "6643571f",
   "metadata": {},
   "outputs": [
    {
     "data": {
      "text/plain": [
       "0.6981232934228476"
      ]
     },
     "execution_count": 221,
     "metadata": {},
     "output_type": "execute_result"
    }
   ],
   "source": [
    "decision_tree_score=r2_score(y_test,y_predict)\n",
    "decision_tree_score"
   ]
  },
  {
   "cell_type": "code",
   "execution_count": 222,
   "id": "7c86fcf3",
   "metadata": {},
   "outputs": [
    {
     "data": {
      "image/png": "[encoded data removed]",
      "text/plain": [
       "<Figure size 640x480 with 1 Axes>"
      ]
     },
     "metadata": {},
     "output_type": "display_data"
    }
   ],
   "source": [
    "# plotting the points   \n",
    "plt.plot(y_test,y_predict,\"ob\")  \n",
    "    \n",
    "# naming the x axis  \n",
    "plt.xlabel('y_test')  \n",
    "# naming the y axis  \n",
    "plt.ylabel('y_pred')  \n",
    "    \n",
    "# giving a title to my graph  \n",
    "plt.title('Decision Tree Regression')  \n",
    "    \n",
    "# function to show the plot  \n",
    "plt.show()"
   ]
  },
  {
   "cell_type": "markdown",
   "id": "8266afaa",
   "metadata": {},
   "source": [
    "## Best Fitting Model"
   ]
  },
  {
   "cell_type": "code",
   "execution_count": 223,
   "id": "c932f367",
   "metadata": {},
   "outputs": [
    {
     "name": "stdout",
     "output_type": "stream",
     "text": [
      "Feature: log(surf T), Importance: 0.038216642359393885\n",
      "Feature: 1/Esat surf, Importance: 0.04678122396039325\n",
      "Feature: qair-qsurf, Importance: 0.9150021336802129\n"
     ]
    }
   ],
   "source": [
    "# Create and fit the random forest model\n",
    "model = RandomForestRegressor(n_estimators=100)  # You can adjust the number of trees\n",
    "model.fit(a,b)  # X represents your independent variables, and y is the dependent variable\n",
    "\n",
    "# Get feature importances\n",
    "feature_importances = model.feature_importances_\n",
    "\n",
    "# Print the feature importances\n",
    "for i, feature in enumerate(a.columns):\n",
    "    print(f\"Feature: {feature}, Importance: {feature_importances[i]}\")\n"
   ]
  },
  {
   "cell_type": "code",
   "execution_count": 224,
   "id": "bdaea517",
   "metadata": {},
   "outputs": [
    {
     "name": "stdout",
     "output_type": "stream",
     "text": [
      "R-squared: 0.9897036490049969\n",
      "Mean Squared Error: 2.5558492685597454e-10\n",
      "Mean Absolute Error: 7.536616516666706e-06\n"
     ]
    }
   ],
   "source": [
    "b_pred_new = model.predict(a_test)\n",
    "\n",
    "r2 = r2_score(b_test, b_pred_new)\n",
    "mse = mean_squared_error(b_test, b_pred_new)\n",
    "mae = mean_absolute_error(b_test, b_pred_new)\n",
    "\n",
    "print(f\"R-squared: {r2}\")\n",
    "print(f\"Mean Squared Error: {mse}\")\n",
    "print(f\"Mean Absolute Error: {mae}\")"
   ]
  },
  {
   "cell_type": "code",
   "execution_count": null,
   "id": "b7bb6a70",
   "metadata": {},
   "outputs": [],
   "source": []
  }
 ],
 "metadata": {
  "kernelspec": {
   "display_name": "Python 3 (ipykernel)",
   "language": "python",
   "name": "python3"
  },
  "language_info": {
   "codemirror_mode": {
    "name": "ipython",
    "version": 3
   },
   "file_extension": ".py",
   "mimetype": "text/x-python",
   "name": "python",
   "nbconvert_exporter": "python",
   "pygments_lexer": "ipython3",
   "version": "3.11.4"
  }
 },
 "nbformat": 4,
 "nbformat_minor": 5
}
