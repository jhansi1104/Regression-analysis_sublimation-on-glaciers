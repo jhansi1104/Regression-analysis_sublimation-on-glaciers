{
 "cells": [
  {
   "cell_type": "markdown",
   "id": "35d6e227",
   "metadata": {},
   "source": [
    "## IMPORTING LIBRARIES"
   ]
  },
  {
   "cell_type": "code",
   "execution_count": 1,
   "id": "62564b3c",
   "metadata": {},
   "outputs": [],
   "source": [
    "import numpy as np\n",
    "import seaborn as sns\n",
    "import matplotlib.pyplot as plt\n",
    "import pandas as pd\n",
    "from sklearn.model_selection import train_test_split\n",
    "from sklearn.linear_model import LinearRegression\n",
    "from sklearn.preprocessing import StandardScaler\n",
    "from sklearn.preprocessing import PolynomialFeatures \n",
    "from sklearn.ensemble import RandomForestRegressor \n",
    "from sklearn.svm import SVR\n",
    "from sklearn.tree import DecisionTreeRegressor \n",
    "from sklearn.metrics import r2_score\n",
    "from sklearn.metrics import mean_absolute_error\n",
    "from sklearn.metrics import mean_squared_error"
   ]
  },
  {
   "cell_type": "markdown",
   "id": "77a22ddf",
   "metadata": {},
   "source": [
    "## LOADING THE DATASET"
   ]
  },
  {
   "cell_type": "code",
   "execution_count": 2,
   "id": "166236c3",
   "metadata": {},
   "outputs": [
    {
     "data": {
      "text/html": [
       "<div>\n",
       "<style scoped>\n",
       "    .dataframe tbody tr th:only-of-type {\n",
       "        vertical-align: middle;\n",
       "    }\n",
       "\n",
       "    .dataframe tbody tr th {\n",
       "        vertical-align: top;\n",
       "    }\n",
       "\n",
       "    .dataframe thead th {\n",
       "        text-align: right;\n",
       "    }\n",
       "</style>\n",
       "<table border=\"1\" class=\"dataframe\">\n",
       "  <thead>\n",
       "    <tr style=\"text-align: right;\">\n",
       "      <th></th>\n",
       "      <th>log(surf T)</th>\n",
       "      <th>1/Esat surf</th>\n",
       "      <th>qair-qsurf</th>\n",
       "      <th>sub values</th>\n",
       "    </tr>\n",
       "  </thead>\n",
       "  <tbody>\n",
       "    <tr>\n",
       "      <th>0</th>\n",
       "      <td>5.611032</td>\n",
       "      <td>0.001636</td>\n",
       "      <td>-0.000008</td>\n",
       "      <td>-0.000025</td>\n",
       "    </tr>\n",
       "    <tr>\n",
       "      <th>1</th>\n",
       "      <td>5.611032</td>\n",
       "      <td>0.001636</td>\n",
       "      <td>-0.000098</td>\n",
       "      <td>-0.000221</td>\n",
       "    </tr>\n",
       "    <tr>\n",
       "      <th>2</th>\n",
       "      <td>5.611032</td>\n",
       "      <td>0.001636</td>\n",
       "      <td>-0.000131</td>\n",
       "      <td>-0.000306</td>\n",
       "    </tr>\n",
       "    <tr>\n",
       "      <th>3</th>\n",
       "      <td>5.611032</td>\n",
       "      <td>0.001636</td>\n",
       "      <td>-0.000135</td>\n",
       "      <td>-0.000427</td>\n",
       "    </tr>\n",
       "    <tr>\n",
       "      <th>4</th>\n",
       "      <td>5.611032</td>\n",
       "      <td>0.001636</td>\n",
       "      <td>-0.000084</td>\n",
       "      <td>-0.000200</td>\n",
       "    </tr>\n",
       "  </tbody>\n",
       "</table>\n",
       "</div>"
      ],
      "text/plain": [
       "   log(surf T)  1/Esat surf  qair-qsurf  sub values\n",
       "0     5.611032     0.001636   -0.000008   -0.000025\n",
       "1     5.611032     0.001636   -0.000098   -0.000221\n",
       "2     5.611032     0.001636   -0.000131   -0.000306\n",
       "3     5.611032     0.001636   -0.000135   -0.000427\n",
       "4     5.611032     0.001636   -0.000084   -0.000200"
      ]
     },
     "execution_count": 2,
     "metadata": {},
     "output_type": "execute_result"
    }
   ],
   "source": [
    "dataset = pd.read_excel('New_sub_val_test.xlsx')\n",
    "dataset.head()"
   ]
  },
  {
   "cell_type": "markdown",
   "id": "2e3cbd5a",
   "metadata": {},
   "source": [
    "## DEFINING THE X-AXIS & Y-AXIS"
   ]
  },
  {
   "cell_type": "code",
   "execution_count": 3,
   "id": "70042b4b",
   "metadata": {},
   "outputs": [
    {
     "data": {
      "text/html": [
       "<div>\n",
       "<style scoped>\n",
       "    .dataframe tbody tr th:only-of-type {\n",
       "        vertical-align: middle;\n",
       "    }\n",
       "\n",
       "    .dataframe tbody tr th {\n",
       "        vertical-align: top;\n",
       "    }\n",
       "\n",
       "    .dataframe thead th {\n",
       "        text-align: right;\n",
       "    }\n",
       "</style>\n",
       "<table border=\"1\" class=\"dataframe\">\n",
       "  <thead>\n",
       "    <tr style=\"text-align: right;\">\n",
       "      <th></th>\n",
       "      <th>log(surf T)</th>\n",
       "      <th>1/Esat surf</th>\n",
       "      <th>qair-qsurf</th>\n",
       "    </tr>\n",
       "  </thead>\n",
       "  <tbody>\n",
       "    <tr>\n",
       "      <th>0</th>\n",
       "      <td>5.611032</td>\n",
       "      <td>0.001636</td>\n",
       "      <td>-0.000008</td>\n",
       "    </tr>\n",
       "    <tr>\n",
       "      <th>1</th>\n",
       "      <td>5.611032</td>\n",
       "      <td>0.001636</td>\n",
       "      <td>-0.000098</td>\n",
       "    </tr>\n",
       "    <tr>\n",
       "      <th>2</th>\n",
       "      <td>5.611032</td>\n",
       "      <td>0.001636</td>\n",
       "      <td>-0.000131</td>\n",
       "    </tr>\n",
       "    <tr>\n",
       "      <th>3</th>\n",
       "      <td>5.611032</td>\n",
       "      <td>0.001636</td>\n",
       "      <td>-0.000135</td>\n",
       "    </tr>\n",
       "    <tr>\n",
       "      <th>4</th>\n",
       "      <td>5.611032</td>\n",
       "      <td>0.001636</td>\n",
       "      <td>-0.000084</td>\n",
       "    </tr>\n",
       "    <tr>\n",
       "      <th>5</th>\n",
       "      <td>5.611032</td>\n",
       "      <td>0.001636</td>\n",
       "      <td>-0.000055</td>\n",
       "    </tr>\n",
       "    <tr>\n",
       "      <th>6</th>\n",
       "      <td>5.611032</td>\n",
       "      <td>0.001636</td>\n",
       "      <td>-0.000033</td>\n",
       "    </tr>\n",
       "    <tr>\n",
       "      <th>7</th>\n",
       "      <td>5.611032</td>\n",
       "      <td>0.001636</td>\n",
       "      <td>0.000147</td>\n",
       "    </tr>\n",
       "    <tr>\n",
       "      <th>8</th>\n",
       "      <td>5.611015</td>\n",
       "      <td>0.001637</td>\n",
       "      <td>0.000154</td>\n",
       "    </tr>\n",
       "    <tr>\n",
       "      <th>9</th>\n",
       "      <td>5.610136</td>\n",
       "      <td>0.001666</td>\n",
       "      <td>0.000059</td>\n",
       "    </tr>\n",
       "    <tr>\n",
       "      <th>10</th>\n",
       "      <td>5.611032</td>\n",
       "      <td>0.001636</td>\n",
       "      <td>0.000104</td>\n",
       "    </tr>\n",
       "    <tr>\n",
       "      <th>11</th>\n",
       "      <td>5.610740</td>\n",
       "      <td>0.001646</td>\n",
       "      <td>0.000007</td>\n",
       "    </tr>\n",
       "    <tr>\n",
       "      <th>12</th>\n",
       "      <td>5.610840</td>\n",
       "      <td>0.001643</td>\n",
       "      <td>0.000081</td>\n",
       "    </tr>\n",
       "    <tr>\n",
       "      <th>13</th>\n",
       "      <td>5.611016</td>\n",
       "      <td>0.001637</td>\n",
       "      <td>0.000057</td>\n",
       "    </tr>\n",
       "    <tr>\n",
       "      <th>14</th>\n",
       "      <td>5.611032</td>\n",
       "      <td>0.001636</td>\n",
       "      <td>0.000055</td>\n",
       "    </tr>\n",
       "    <tr>\n",
       "      <th>15</th>\n",
       "      <td>5.611032</td>\n",
       "      <td>0.001636</td>\n",
       "      <td>0.000076</td>\n",
       "    </tr>\n",
       "    <tr>\n",
       "      <th>16</th>\n",
       "      <td>5.611032</td>\n",
       "      <td>0.001636</td>\n",
       "      <td>-0.000061</td>\n",
       "    </tr>\n",
       "    <tr>\n",
       "      <th>17</th>\n",
       "      <td>5.611032</td>\n",
       "      <td>0.001636</td>\n",
       "      <td>-0.000060</td>\n",
       "    </tr>\n",
       "    <tr>\n",
       "      <th>18</th>\n",
       "      <td>5.611032</td>\n",
       "      <td>0.001636</td>\n",
       "      <td>-0.000007</td>\n",
       "    </tr>\n",
       "    <tr>\n",
       "      <th>19</th>\n",
       "      <td>5.611032</td>\n",
       "      <td>0.001636</td>\n",
       "      <td>0.000100</td>\n",
       "    </tr>\n",
       "    <tr>\n",
       "      <th>20</th>\n",
       "      <td>5.611032</td>\n",
       "      <td>0.001636</td>\n",
       "      <td>0.000126</td>\n",
       "    </tr>\n",
       "    <tr>\n",
       "      <th>21</th>\n",
       "      <td>5.611032</td>\n",
       "      <td>0.001636</td>\n",
       "      <td>-0.000015</td>\n",
       "    </tr>\n",
       "    <tr>\n",
       "      <th>22</th>\n",
       "      <td>5.611032</td>\n",
       "      <td>0.001636</td>\n",
       "      <td>0.000086</td>\n",
       "    </tr>\n",
       "    <tr>\n",
       "      <th>23</th>\n",
       "      <td>5.611032</td>\n",
       "      <td>0.001636</td>\n",
       "      <td>0.000110</td>\n",
       "    </tr>\n",
       "    <tr>\n",
       "      <th>24</th>\n",
       "      <td>5.611032</td>\n",
       "      <td>0.001636</td>\n",
       "      <td>0.000083</td>\n",
       "    </tr>\n",
       "    <tr>\n",
       "      <th>25</th>\n",
       "      <td>5.611032</td>\n",
       "      <td>0.001636</td>\n",
       "      <td>0.000090</td>\n",
       "    </tr>\n",
       "    <tr>\n",
       "      <th>26</th>\n",
       "      <td>5.611032</td>\n",
       "      <td>0.001636</td>\n",
       "      <td>0.000152</td>\n",
       "    </tr>\n",
       "    <tr>\n",
       "      <th>27</th>\n",
       "      <td>5.611032</td>\n",
       "      <td>0.001636</td>\n",
       "      <td>0.000119</td>\n",
       "    </tr>\n",
       "    <tr>\n",
       "      <th>28</th>\n",
       "      <td>5.611032</td>\n",
       "      <td>0.001636</td>\n",
       "      <td>0.000097</td>\n",
       "    </tr>\n",
       "    <tr>\n",
       "      <th>29</th>\n",
       "      <td>5.611032</td>\n",
       "      <td>0.001636</td>\n",
       "      <td>0.000114</td>\n",
       "    </tr>\n",
       "    <tr>\n",
       "      <th>30</th>\n",
       "      <td>5.611032</td>\n",
       "      <td>0.001636</td>\n",
       "      <td>0.000135</td>\n",
       "    </tr>\n",
       "    <tr>\n",
       "      <th>31</th>\n",
       "      <td>5.611032</td>\n",
       "      <td>0.001636</td>\n",
       "      <td>0.000107</td>\n",
       "    </tr>\n",
       "    <tr>\n",
       "      <th>32</th>\n",
       "      <td>5.611032</td>\n",
       "      <td>0.001636</td>\n",
       "      <td>0.000111</td>\n",
       "    </tr>\n",
       "    <tr>\n",
       "      <th>33</th>\n",
       "      <td>5.611032</td>\n",
       "      <td>0.001636</td>\n",
       "      <td>0.000167</td>\n",
       "    </tr>\n",
       "    <tr>\n",
       "      <th>34</th>\n",
       "      <td>5.611032</td>\n",
       "      <td>0.001636</td>\n",
       "      <td>0.000141</td>\n",
       "    </tr>\n",
       "    <tr>\n",
       "      <th>35</th>\n",
       "      <td>5.611032</td>\n",
       "      <td>0.001636</td>\n",
       "      <td>0.000038</td>\n",
       "    </tr>\n",
       "    <tr>\n",
       "      <th>36</th>\n",
       "      <td>5.611032</td>\n",
       "      <td>0.001636</td>\n",
       "      <td>0.000004</td>\n",
       "    </tr>\n",
       "    <tr>\n",
       "      <th>37</th>\n",
       "      <td>5.611032</td>\n",
       "      <td>0.001636</td>\n",
       "      <td>0.000003</td>\n",
       "    </tr>\n",
       "    <tr>\n",
       "      <th>38</th>\n",
       "      <td>5.611032</td>\n",
       "      <td>0.001636</td>\n",
       "      <td>0.000015</td>\n",
       "    </tr>\n",
       "    <tr>\n",
       "      <th>39</th>\n",
       "      <td>5.611032</td>\n",
       "      <td>0.001636</td>\n",
       "      <td>0.000105</td>\n",
       "    </tr>\n",
       "    <tr>\n",
       "      <th>40</th>\n",
       "      <td>5.611032</td>\n",
       "      <td>0.001636</td>\n",
       "      <td>0.000086</td>\n",
       "    </tr>\n",
       "    <tr>\n",
       "      <th>41</th>\n",
       "      <td>5.611032</td>\n",
       "      <td>0.001636</td>\n",
       "      <td>0.000083</td>\n",
       "    </tr>\n",
       "    <tr>\n",
       "      <th>42</th>\n",
       "      <td>5.611032</td>\n",
       "      <td>0.001636</td>\n",
       "      <td>0.000130</td>\n",
       "    </tr>\n",
       "    <tr>\n",
       "      <th>43</th>\n",
       "      <td>5.611032</td>\n",
       "      <td>0.001636</td>\n",
       "      <td>0.000079</td>\n",
       "    </tr>\n",
       "    <tr>\n",
       "      <th>44</th>\n",
       "      <td>5.611032</td>\n",
       "      <td>0.001636</td>\n",
       "      <td>0.000076</td>\n",
       "    </tr>\n",
       "    <tr>\n",
       "      <th>45</th>\n",
       "      <td>5.610867</td>\n",
       "      <td>0.001642</td>\n",
       "      <td>0.000039</td>\n",
       "    </tr>\n",
       "    <tr>\n",
       "      <th>46</th>\n",
       "      <td>5.610742</td>\n",
       "      <td>0.001646</td>\n",
       "      <td>0.000038</td>\n",
       "    </tr>\n",
       "    <tr>\n",
       "      <th>47</th>\n",
       "      <td>5.610964</td>\n",
       "      <td>0.001639</td>\n",
       "      <td>0.000057</td>\n",
       "    </tr>\n",
       "    <tr>\n",
       "      <th>48</th>\n",
       "      <td>5.610368</td>\n",
       "      <td>0.001658</td>\n",
       "      <td>0.000025</td>\n",
       "    </tr>\n",
       "    <tr>\n",
       "      <th>49</th>\n",
       "      <td>5.607224</td>\n",
       "      <td>0.001765</td>\n",
       "      <td>-0.000108</td>\n",
       "    </tr>\n",
       "    <tr>\n",
       "      <th>50</th>\n",
       "      <td>5.606640</td>\n",
       "      <td>0.001786</td>\n",
       "      <td>-0.000013</td>\n",
       "    </tr>\n",
       "    <tr>\n",
       "      <th>51</th>\n",
       "      <td>5.606118</td>\n",
       "      <td>0.001804</td>\n",
       "      <td>-0.000026</td>\n",
       "    </tr>\n",
       "    <tr>\n",
       "      <th>52</th>\n",
       "      <td>5.606934</td>\n",
       "      <td>0.001775</td>\n",
       "      <td>-0.000028</td>\n",
       "    </tr>\n",
       "    <tr>\n",
       "      <th>53</th>\n",
       "      <td>5.606871</td>\n",
       "      <td>0.001778</td>\n",
       "      <td>0.000011</td>\n",
       "    </tr>\n",
       "    <tr>\n",
       "      <th>54</th>\n",
       "      <td>5.605461</td>\n",
       "      <td>0.001828</td>\n",
       "      <td>0.000054</td>\n",
       "    </tr>\n",
       "    <tr>\n",
       "      <th>55</th>\n",
       "      <td>5.605201</td>\n",
       "      <td>0.001838</td>\n",
       "      <td>-0.000054</td>\n",
       "    </tr>\n",
       "    <tr>\n",
       "      <th>56</th>\n",
       "      <td>5.604061</td>\n",
       "      <td>0.001880</td>\n",
       "      <td>0.000018</td>\n",
       "    </tr>\n",
       "    <tr>\n",
       "      <th>57</th>\n",
       "      <td>5.604791</td>\n",
       "      <td>0.001853</td>\n",
       "      <td>-0.000116</td>\n",
       "    </tr>\n",
       "    <tr>\n",
       "      <th>58</th>\n",
       "      <td>5.604745</td>\n",
       "      <td>0.001855</td>\n",
       "      <td>-0.000154</td>\n",
       "    </tr>\n",
       "    <tr>\n",
       "      <th>59</th>\n",
       "      <td>5.603069</td>\n",
       "      <td>0.001918</td>\n",
       "      <td>-0.000099</td>\n",
       "    </tr>\n",
       "  </tbody>\n",
       "</table>\n",
       "</div>"
      ],
      "text/plain": [
       "    log(surf T)  1/Esat surf  qair-qsurf\n",
       "0      5.611032     0.001636   -0.000008\n",
       "1      5.611032     0.001636   -0.000098\n",
       "2      5.611032     0.001636   -0.000131\n",
       "3      5.611032     0.001636   -0.000135\n",
       "4      5.611032     0.001636   -0.000084\n",
       "5      5.611032     0.001636   -0.000055\n",
       "6      5.611032     0.001636   -0.000033\n",
       "7      5.611032     0.001636    0.000147\n",
       "8      5.611015     0.001637    0.000154\n",
       "9      5.610136     0.001666    0.000059\n",
       "10     5.611032     0.001636    0.000104\n",
       "11     5.610740     0.001646    0.000007\n",
       "12     5.610840     0.001643    0.000081\n",
       "13     5.611016     0.001637    0.000057\n",
       "14     5.611032     0.001636    0.000055\n",
       "15     5.611032     0.001636    0.000076\n",
       "16     5.611032     0.001636   -0.000061\n",
       "17     5.611032     0.001636   -0.000060\n",
       "18     5.611032     0.001636   -0.000007\n",
       "19     5.611032     0.001636    0.000100\n",
       "20     5.611032     0.001636    0.000126\n",
       "21     5.611032     0.001636   -0.000015\n",
       "22     5.611032     0.001636    0.000086\n",
       "23     5.611032     0.001636    0.000110\n",
       "24     5.611032     0.001636    0.000083\n",
       "25     5.611032     0.001636    0.000090\n",
       "26     5.611032     0.001636    0.000152\n",
       "27     5.611032     0.001636    0.000119\n",
       "28     5.611032     0.001636    0.000097\n",
       "29     5.611032     0.001636    0.000114\n",
       "30     5.611032     0.001636    0.000135\n",
       "31     5.611032     0.001636    0.000107\n",
       "32     5.611032     0.001636    0.000111\n",
       "33     5.611032     0.001636    0.000167\n",
       "34     5.611032     0.001636    0.000141\n",
       "35     5.611032     0.001636    0.000038\n",
       "36     5.611032     0.001636    0.000004\n",
       "37     5.611032     0.001636    0.000003\n",
       "38     5.611032     0.001636    0.000015\n",
       "39     5.611032     0.001636    0.000105\n",
       "40     5.611032     0.001636    0.000086\n",
       "41     5.611032     0.001636    0.000083\n",
       "42     5.611032     0.001636    0.000130\n",
       "43     5.611032     0.001636    0.000079\n",
       "44     5.611032     0.001636    0.000076\n",
       "45     5.610867     0.001642    0.000039\n",
       "46     5.610742     0.001646    0.000038\n",
       "47     5.610964     0.001639    0.000057\n",
       "48     5.610368     0.001658    0.000025\n",
       "49     5.607224     0.001765   -0.000108\n",
       "50     5.606640     0.001786   -0.000013\n",
       "51     5.606118     0.001804   -0.000026\n",
       "52     5.606934     0.001775   -0.000028\n",
       "53     5.606871     0.001778    0.000011\n",
       "54     5.605461     0.001828    0.000054\n",
       "55     5.605201     0.001838   -0.000054\n",
       "56     5.604061     0.001880    0.000018\n",
       "57     5.604791     0.001853   -0.000116\n",
       "58     5.604745     0.001855   -0.000154\n",
       "59     5.603069     0.001918   -0.000099"
      ]
     },
     "execution_count": 3,
     "metadata": {},
     "output_type": "execute_result"
    }
   ],
   "source": [
    "x = dataset.iloc[:, :-1]\n",
    "y = dataset.iloc[:, 3]\n",
    "x"
   ]
  },
  {
   "cell_type": "markdown",
   "id": "ae5b3d08",
   "metadata": {},
   "source": [
    "## TRAINING THE DATASET"
   ]
  },
  {
   "cell_type": "code",
   "execution_count": 4,
   "id": "1267db93",
   "metadata": {},
   "outputs": [],
   "source": [
    "x_train, x_test, y_train, y_test = train_test_split(x, y, test_size = 0.2, random_state = 0)"
   ]
  },
  {
   "cell_type": "markdown",
   "id": "18195dcc",
   "metadata": {},
   "source": [
    "## 1) MULTIPLE LINEAR REGRESSION"
   ]
  },
  {
   "cell_type": "code",
   "execution_count": 5,
   "id": "89e932f9",
   "metadata": {},
   "outputs": [
    {
     "data": {
      "text/html": [
       "<style>#sk-container-id-1 {color: black;}#sk-container-id-1 pre{padding: 0;}#sk-container-id-1 div.sk-toggleable {background-color: white;}#sk-container-id-1 label.sk-toggleable__label {cursor: pointer;display: block;width: 100%;margin-bottom: 0;padding: 0.3em;box-sizing: border-box;text-align: center;}#sk-container-id-1 label.sk-toggleable__label-arrow:before {content: \"▸\";float: left;margin-right: 0.25em;color: #696969;}#sk-container-id-1 label.sk-toggleable__label-arrow:hover:before {color: black;}#sk-container-id-1 div.sk-estimator:hover label.sk-toggleable__label-arrow:before {color: black;}#sk-container-id-1 div.sk-toggleable__content {max-height: 0;max-width: 0;overflow: hidden;text-align: left;background-color: #f0f8ff;}#sk-container-id-1 div.sk-toggleable__content pre {margin: 0.2em;color: black;border-radius: 0.25em;background-color: #f0f8ff;}#sk-container-id-1 input.sk-toggleable__control:checked~div.sk-toggleable__content {max-height: 200px;max-width: 100%;overflow: auto;}#sk-container-id-1 input.sk-toggleable__control:checked~label.sk-toggleable__label-arrow:before {content: \"▾\";}#sk-container-id-1 div.sk-estimator input.sk-toggleable__control:checked~label.sk-toggleable__label {background-color: #d4ebff;}#sk-container-id-1 div.sk-label input.sk-toggleable__control:checked~label.sk-toggleable__label {background-color: #d4ebff;}#sk-container-id-1 input.sk-hidden--visually {border: 0;clip: rect(1px 1px 1px 1px);clip: rect(1px, 1px, 1px, 1px);height: 1px;margin: -1px;overflow: hidden;padding: 0;position: absolute;width: 1px;}#sk-container-id-1 div.sk-estimator {font-family: monospace;background-color: #f0f8ff;border: 1px dotted black;border-radius: 0.25em;box-sizing: border-box;margin-bottom: 0.5em;}#sk-container-id-1 div.sk-estimator:hover {background-color: #d4ebff;}#sk-container-id-1 div.sk-parallel-item::after {content: \"\";width: 100%;border-bottom: 1px solid gray;flex-grow: 1;}#sk-container-id-1 div.sk-label:hover label.sk-toggleable__label {background-color: #d4ebff;}#sk-container-id-1 div.sk-serial::before {content: \"\";position: absolute;border-left: 1px solid gray;box-sizing: border-box;top: 0;bottom: 0;left: 50%;z-index: 0;}#sk-container-id-1 div.sk-serial {display: flex;flex-direction: column;align-items: center;background-color: white;padding-right: 0.2em;padding-left: 0.2em;position: relative;}#sk-container-id-1 div.sk-item {position: relative;z-index: 1;}#sk-container-id-1 div.sk-parallel {display: flex;align-items: stretch;justify-content: center;background-color: white;position: relative;}#sk-container-id-1 div.sk-item::before, #sk-container-id-1 div.sk-parallel-item::before {content: \"\";position: absolute;border-left: 1px solid gray;box-sizing: border-box;top: 0;bottom: 0;left: 50%;z-index: -1;}#sk-container-id-1 div.sk-parallel-item {display: flex;flex-direction: column;z-index: 1;position: relative;background-color: white;}#sk-container-id-1 div.sk-parallel-item:first-child::after {align-self: flex-end;width: 50%;}#sk-container-id-1 div.sk-parallel-item:last-child::after {align-self: flex-start;width: 50%;}#sk-container-id-1 div.sk-parallel-item:only-child::after {width: 0;}#sk-container-id-1 div.sk-dashed-wrapped {border: 1px dashed gray;margin: 0 0.4em 0.5em 0.4em;box-sizing: border-box;padding-bottom: 0.4em;background-color: white;}#sk-container-id-1 div.sk-label label {font-family: monospace;font-weight: bold;display: inline-block;line-height: 1.2em;}#sk-container-id-1 div.sk-label-container {text-align: center;}#sk-container-id-1 div.sk-container {/* jupyter's `normalize.less` sets `[hidden] { display: none; }` but bootstrap.min.css set `[hidden] { display: none !important; }` so we also need the `!important` here to be able to override the default hidden behavior on the sphinx rendered scikit-learn.org. See: https://github.com/scikit-learn/scikit-learn/issues/21755 */display: inline-block !important;position: relative;}#sk-container-id-1 div.sk-text-repr-fallback {display: none;}</style><div id=\"sk-container-id-1\" class=\"sk-top-container\"><div class=\"sk-text-repr-fallback\"><pre>LinearRegression()</pre><b>In a Jupyter environment, please rerun this cell to show the HTML representation or trust the notebook. <br />On GitHub, the HTML representation is unable to render, please try loading this page with nbviewer.org.</b></div><div class=\"sk-container\" hidden><div class=\"sk-item\"><div class=\"sk-estimator sk-toggleable\"><input class=\"sk-toggleable__control sk-hidden--visually\" id=\"sk-estimator-id-1\" type=\"checkbox\" checked><label for=\"sk-estimator-id-1\" class=\"sk-toggleable__label sk-toggleable__label-arrow\">LinearRegression</label><div class=\"sk-toggleable__content\"><pre>LinearRegression()</pre></div></div></div></div></div>"
      ],
      "text/plain": [
       "LinearRegression()"
      ]
     },
     "execution_count": 5,
     "metadata": {},
     "output_type": "execute_result"
    }
   ],
   "source": [
    "# Fitting Multiple Linear Regression to the Training set\n",
    "\n",
    "regressor = LinearRegression()\n",
    "regressor.fit(x_train, y_train)"
   ]
  },
  {
   "cell_type": "code",
   "execution_count": 6,
   "id": "82ca5543",
   "metadata": {},
   "outputs": [],
   "source": [
    "# Predicting the Test set results\n",
    "\n",
    "y_pred = regressor.predict(x_test)"
   ]
  },
  {
   "cell_type": "code",
   "execution_count": 7,
   "id": "4ae0e083",
   "metadata": {},
   "outputs": [
    {
     "data": {
      "text/plain": [
       "0.7623975680743708"
      ]
     },
     "execution_count": 7,
     "metadata": {},
     "output_type": "execute_result"
    }
   ],
   "source": [
    "# Obtaining accuracy\n",
    "\n",
    "multivariate_score=r2_score(y_test,y_pred)\n",
    "multivariate_score"
   ]
  },
  {
   "cell_type": "code",
   "execution_count": 8,
   "id": "c86d3156",
   "metadata": {},
   "outputs": [
    {
     "data": {
      "text/plain": [
       "2.649162833308554"
      ]
     },
     "execution_count": 8,
     "metadata": {},
     "output_type": "execute_result"
    }
   ],
   "source": [
    "#finding intercept\n",
    "\n",
    "intercept=regressor.intercept_\n",
    "intercept"
   ]
  },
  {
   "cell_type": "code",
   "execution_count": 9,
   "id": "b14111bf",
   "metadata": {},
   "outputs": [
    {
     "data": {
      "text/plain": [
       "array([ -0.46806849, -14.00517366,   1.14973782])"
      ]
     },
     "execution_count": 9,
     "metadata": {},
     "output_type": "execute_result"
    }
   ],
   "source": [
    "#finding coefficients\n",
    "\n",
    "coefficients=regressor.coef_\n",
    "coefficients"
   ]
  },
  {
   "cell_type": "code",
   "execution_count": 10,
   "id": "166cf97c",
   "metadata": {},
   "outputs": [
    {
     "data": {
      "image/png": "[encoded data removed]",
      "text/plain": [
       "<Figure size 640x480 with 1 Axes>"
      ]
     },
     "metadata": {},
     "output_type": "display_data"
    }
   ],
   "source": [
    "# plotting the points   \n",
    "plt.plot(y_test,y_pred,\"ob\")  \n",
    "    \n",
    "# naming the x axis  \n",
    "plt.xlabel('y_test')  \n",
    "# naming the y axis  \n",
    "plt.ylabel('y_pred')  \n",
    "    \n",
    "# giving a title to my graph  \n",
    "plt.title('Multivariate Linear regression')  \n",
    "    \n",
    "# function to show the plot  \n",
    "plt.show()  "
   ]
  },
  {
   "cell_type": "markdown",
   "id": "d469defe",
   "metadata": {},
   "source": [
    "## 2) POLYNOMIAL REGRESSION"
   ]
  },
  {
   "cell_type": "code",
   "execution_count": 23,
   "id": "6ad8914c",
   "metadata": {},
   "outputs": [
    {
     "name": "stdout",
     "output_type": "stream",
     "text": [
      "Polynomial Regression R^2: 0.6367627486664135\n",
      "mse 9.01658911574735e-09\n",
      "Coefficients: [ 0.00000000e+00  4.70116592e+07 -2.97179779e+09  1.57288676e+05\n",
      " -4.09924796e+06  5.38972600e+08 -2.78011084e+04  1.78868058e+09\n",
      " -7.91125556e+05 -7.89519885e+03]\n"
     ]
    }
   ],
   "source": [
    "# Assuming 'dataset' is your dataframe containing features and target variable\n",
    "p = dataset.iloc[:, :-1]\n",
    "q = dataset.iloc[:, -1]  # Assuming the target variable is in the last column\n",
    "\n",
    "# Split the data\n",
    "p_train, p_test, q_train, q_test = train_test_split(p, q, test_size=0.2, random_state=42)\n",
    "\n",
    "# Polynomial regression\n",
    "poly = PolynomialFeatures(degree=2)\n",
    "regressor = LinearRegression()\n",
    "\n",
    "# Transform features\n",
    "p_poly_train = poly.fit_transform(p_train)\n",
    "p_poly_test = poly.transform(p_test)\n",
    "\n",
    "# Fit the model\n",
    "regressor.fit(p_poly_train, q_train)\n",
    "\n",
    "# Make predictions\n",
    "q_pred = regressor.predict(p_poly_test)\n",
    "\n",
    "# Evaluate R^2\n",
    "polynomial_score = r2_score(q_test, q_pred)\n",
    "print(\"Polynomial Regression R^2:\", polynomial_score)\n",
    "\n",
    "mse = mean_squared_error(q_test, q_pred)\n",
    "print(\"mse\",mse)\n",
    "\n",
    "# Check coefficients\n",
    "coefficients = regressor.coef_\n",
    "print(\"Coefficients:\", coefficients)\n",
    "\n",
    "# # Get the DataFrame with transformed features and column names\n",
    "# poly_train_df = pd.DataFrame(p_poly_train, columns=[f'x{i}' for i in range(p_poly_train.shape[1])])\n",
    "\n",
    "# # Print the DataFrame to see the transformed features\n",
    "# print(poly_train_df)"
   ]
  },
  {
   "cell_type": "markdown",
   "id": "76f92663",
   "metadata": {},
   "source": [
    "## Polynomial_regression_using other degrees"
   ]
  },
  {
   "cell_type": "code",
   "execution_count": 24,
   "id": "7163a50c",
   "metadata": {},
   "outputs": [
    {
     "name": "stdout",
     "output_type": "stream",
     "text": [
      "Polynomial Regression R^2: 0.8212432384383868\n",
      "mse 4.437254892622445e-09\n",
      "Coefficients: [ 0.00000000e+00 -2.30555436e+06  5.80336522e+07 -7.83146680e+07\n",
      " -9.24593900e+05  1.51354440e+08  2.77524861e+07 -2.08296973e+07\n",
      "  1.13516344e+08 -2.17083483e+09  1.30846522e+05 -2.93577372e+07\n",
      " -2.45877835e+06 -1.00944812e+08 -1.96351804e+07  3.83687112e+08\n",
      " -6.52618527e+06  1.87652004e+08  1.09669393e+10  2.25676312e+07]\n"
     ]
    }
   ],
   "source": [
    "# Assuming 'dataset' is your dataframe containing features and target variable\n",
    "p = dataset.iloc[:, :-1]\n",
    "q = dataset.iloc[:, -1]  # Assuming the target variable is in the last column\n",
    "\n",
    "# Split the data\n",
    "p_train, p_test, q_train, q_test = train_test_split(p, q, test_size=0.2, random_state=42)\n",
    "\n",
    "# Polynomial regression\n",
    "poly = PolynomialFeatures(degree=3)\n",
    "regressor = LinearRegression()\n",
    "\n",
    "# Transform features\n",
    "p_poly_train = poly.fit_transform(p_train)\n",
    "p_poly_test = poly.transform(p_test)\n",
    "\n",
    "# Fit the model\n",
    "regressor.fit(p_poly_train, q_train)\n",
    "\n",
    "# Make predictions\n",
    "q_pred = regressor.predict(p_poly_test)\n",
    "\n",
    "# Evaluate R^2\n",
    "polynomial_score = r2_score(q_test, q_pred)\n",
    "print(\"Polynomial Regression R^2:\", polynomial_score)\n",
    "\n",
    "mse = mean_squared_error(q_test, q_pred)\n",
    "print(\"mse\",mse)\n",
    "\n",
    "# Check coefficients\n",
    "coefficients = regressor.coef_\n",
    "print(\"Coefficients:\", coefficients)"
   ]
  },
  {
   "cell_type": "markdown",
   "id": "aa8df170",
   "metadata": {},
   "source": [
    "## Without scaling the data"
   ]
  },
  {
   "cell_type": "code",
   "execution_count": 28,
   "id": "74cdd070",
   "metadata": {},
   "outputs": [],
   "source": [
    "p_train, p_test, q_train, q_test = train_test_split(p, q, test_size = 0.2, random_state =42)"
   ]
  },
  {
   "cell_type": "code",
   "execution_count": 29,
   "id": "900707da",
   "metadata": {},
   "outputs": [
    {
     "data": {
      "text/html": [
       "<style>#sk-container-id-3 {color: black;}#sk-container-id-3 pre{padding: 0;}#sk-container-id-3 div.sk-toggleable {background-color: white;}#sk-container-id-3 label.sk-toggleable__label {cursor: pointer;display: block;width: 100%;margin-bottom: 0;padding: 0.3em;box-sizing: border-box;text-align: center;}#sk-container-id-3 label.sk-toggleable__label-arrow:before {content: \"▸\";float: left;margin-right: 0.25em;color: #696969;}#sk-container-id-3 label.sk-toggleable__label-arrow:hover:before {color: black;}#sk-container-id-3 div.sk-estimator:hover label.sk-toggleable__label-arrow:before {color: black;}#sk-container-id-3 div.sk-toggleable__content {max-height: 0;max-width: 0;overflow: hidden;text-align: left;background-color: #f0f8ff;}#sk-container-id-3 div.sk-toggleable__content pre {margin: 0.2em;color: black;border-radius: 0.25em;background-color: #f0f8ff;}#sk-container-id-3 input.sk-toggleable__control:checked~div.sk-toggleable__content {max-height: 200px;max-width: 100%;overflow: auto;}#sk-container-id-3 input.sk-toggleable__control:checked~label.sk-toggleable__label-arrow:before {content: \"▾\";}#sk-container-id-3 div.sk-estimator input.sk-toggleable__control:checked~label.sk-toggleable__label {background-color: #d4ebff;}#sk-container-id-3 div.sk-label input.sk-toggleable__control:checked~label.sk-toggleable__label {background-color: #d4ebff;}#sk-container-id-3 input.sk-hidden--visually {border: 0;clip: rect(1px 1px 1px 1px);clip: rect(1px, 1px, 1px, 1px);height: 1px;margin: -1px;overflow: hidden;padding: 0;position: absolute;width: 1px;}#sk-container-id-3 div.sk-estimator {font-family: monospace;background-color: #f0f8ff;border: 1px dotted black;border-radius: 0.25em;box-sizing: border-box;margin-bottom: 0.5em;}#sk-container-id-3 div.sk-estimator:hover {background-color: #d4ebff;}#sk-container-id-3 div.sk-parallel-item::after {content: \"\";width: 100%;border-bottom: 1px solid gray;flex-grow: 1;}#sk-container-id-3 div.sk-label:hover label.sk-toggleable__label {background-color: #d4ebff;}#sk-container-id-3 div.sk-serial::before {content: \"\";position: absolute;border-left: 1px solid gray;box-sizing: border-box;top: 0;bottom: 0;left: 50%;z-index: 0;}#sk-container-id-3 div.sk-serial {display: flex;flex-direction: column;align-items: center;background-color: white;padding-right: 0.2em;padding-left: 0.2em;position: relative;}#sk-container-id-3 div.sk-item {position: relative;z-index: 1;}#sk-container-id-3 div.sk-parallel {display: flex;align-items: stretch;justify-content: center;background-color: white;position: relative;}#sk-container-id-3 div.sk-item::before, #sk-container-id-3 div.sk-parallel-item::before {content: \"\";position: absolute;border-left: 1px solid gray;box-sizing: border-box;top: 0;bottom: 0;left: 50%;z-index: -1;}#sk-container-id-3 div.sk-parallel-item {display: flex;flex-direction: column;z-index: 1;position: relative;background-color: white;}#sk-container-id-3 div.sk-parallel-item:first-child::after {align-self: flex-end;width: 50%;}#sk-container-id-3 div.sk-parallel-item:last-child::after {align-self: flex-start;width: 50%;}#sk-container-id-3 div.sk-parallel-item:only-child::after {width: 0;}#sk-container-id-3 div.sk-dashed-wrapped {border: 1px dashed gray;margin: 0 0.4em 0.5em 0.4em;box-sizing: border-box;padding-bottom: 0.4em;background-color: white;}#sk-container-id-3 div.sk-label label {font-family: monospace;font-weight: bold;display: inline-block;line-height: 1.2em;}#sk-container-id-3 div.sk-label-container {text-align: center;}#sk-container-id-3 div.sk-container {/* jupyter's `normalize.less` sets `[hidden] { display: none; }` but bootstrap.min.css set `[hidden] { display: none !important; }` so we also need the `!important` here to be able to override the default hidden behavior on the sphinx rendered scikit-learn.org. See: https://github.com/scikit-learn/scikit-learn/issues/21755 */display: inline-block !important;position: relative;}#sk-container-id-3 div.sk-text-repr-fallback {display: none;}</style><div id=\"sk-container-id-3\" class=\"sk-top-container\"><div class=\"sk-text-repr-fallback\"><pre>LinearRegression()</pre><b>In a Jupyter environment, please rerun this cell to show the HTML representation or trust the notebook. <br />On GitHub, the HTML representation is unable to render, please try loading this page with nbviewer.org.</b></div><div class=\"sk-container\" hidden><div class=\"sk-item\"><div class=\"sk-estimator sk-toggleable\"><input class=\"sk-toggleable__control sk-hidden--visually\" id=\"sk-estimator-id-3\" type=\"checkbox\" checked><label for=\"sk-estimator-id-3\" class=\"sk-toggleable__label sk-toggleable__label-arrow\">LinearRegression</label><div class=\"sk-toggleable__content\"><pre>LinearRegression()</pre></div></div></div></div></div>"
      ],
      "text/plain": [
       "LinearRegression()"
      ]
     },
     "execution_count": 29,
     "metadata": {},
     "output_type": "execute_result"
    }
   ],
   "source": [
    "poly = PolynomialFeatures(degree=2)\n",
    "regre= LinearRegression()\n",
    "p_poly_train = poly.fit_transform(p_train)\n",
    "p_test_poly = poly.transform(p_test)\n",
    "poly.fit(p_poly_train, q_train)\n",
    "regre.fit(p_poly_train, q_train)"
   ]
  },
  {
   "cell_type": "code",
   "execution_count": 30,
   "id": "dc57a5f8",
   "metadata": {},
   "outputs": [],
   "source": [
    "q_pred=regre.predict(p_test_poly)"
   ]
  },
  {
   "cell_type": "code",
   "execution_count": 31,
   "id": "55811835",
   "metadata": {},
   "outputs": [
    {
     "data": {
      "text/plain": [
       "0.6367627486664135"
      ]
     },
     "execution_count": 31,
     "metadata": {},
     "output_type": "execute_result"
    }
   ],
   "source": [
    "polynomial_score=r2_score(q_test,q_pred)\n",
    "polynomial_score"
   ]
  },
  {
   "cell_type": "code",
   "execution_count": 32,
   "id": "f8136acf",
   "metadata": {},
   "outputs": [
    {
     "data": {
      "text/plain": [
       "array([ 0.00000000e+00,  4.70116592e+07, -2.97179779e+09,  1.57288676e+05,\n",
       "       -4.09924796e+06,  5.38972600e+08, -2.78011084e+04,  1.78868058e+09,\n",
       "       -7.91125556e+05, -7.89519885e+03])"
      ]
     },
     "execution_count": 32,
     "metadata": {},
     "output_type": "execute_result"
    }
   ],
   "source": [
    "regre.coef_"
   ]
  },
  {
   "cell_type": "markdown",
   "id": "4e0e1819",
   "metadata": {},
   "source": [
    "## scaling the data\n"
   ]
  },
  {
   "cell_type": "code",
   "execution_count": 33,
   "id": "706dfe9d",
   "metadata": {},
   "outputs": [],
   "source": [
    "scaler = StandardScaler()\n",
    "p_train_scaler = scaler.fit_transform(p_train)\n",
    "p_test_scaler = scaler.transform(p_test)"
   ]
  },
  {
   "cell_type": "code",
   "execution_count": 34,
   "id": "f1b9315f",
   "metadata": {},
   "outputs": [
    {
     "data": {
      "text/html": [
       "<style>#sk-container-id-4 {color: black;}#sk-container-id-4 pre{padding: 0;}#sk-container-id-4 div.sk-toggleable {background-color: white;}#sk-container-id-4 label.sk-toggleable__label {cursor: pointer;display: block;width: 100%;margin-bottom: 0;padding: 0.3em;box-sizing: border-box;text-align: center;}#sk-container-id-4 label.sk-toggleable__label-arrow:before {content: \"▸\";float: left;margin-right: 0.25em;color: #696969;}#sk-container-id-4 label.sk-toggleable__label-arrow:hover:before {color: black;}#sk-container-id-4 div.sk-estimator:hover label.sk-toggleable__label-arrow:before {color: black;}#sk-container-id-4 div.sk-toggleable__content {max-height: 0;max-width: 0;overflow: hidden;text-align: left;background-color: #f0f8ff;}#sk-container-id-4 div.sk-toggleable__content pre {margin: 0.2em;color: black;border-radius: 0.25em;background-color: #f0f8ff;}#sk-container-id-4 input.sk-toggleable__control:checked~div.sk-toggleable__content {max-height: 200px;max-width: 100%;overflow: auto;}#sk-container-id-4 input.sk-toggleable__control:checked~label.sk-toggleable__label-arrow:before {content: \"▾\";}#sk-container-id-4 div.sk-estimator input.sk-toggleable__control:checked~label.sk-toggleable__label {background-color: #d4ebff;}#sk-container-id-4 div.sk-label input.sk-toggleable__control:checked~label.sk-toggleable__label {background-color: #d4ebff;}#sk-container-id-4 input.sk-hidden--visually {border: 0;clip: rect(1px 1px 1px 1px);clip: rect(1px, 1px, 1px, 1px);height: 1px;margin: -1px;overflow: hidden;padding: 0;position: absolute;width: 1px;}#sk-container-id-4 div.sk-estimator {font-family: monospace;background-color: #f0f8ff;border: 1px dotted black;border-radius: 0.25em;box-sizing: border-box;margin-bottom: 0.5em;}#sk-container-id-4 div.sk-estimator:hover {background-color: #d4ebff;}#sk-container-id-4 div.sk-parallel-item::after {content: \"\";width: 100%;border-bottom: 1px solid gray;flex-grow: 1;}#sk-container-id-4 div.sk-label:hover label.sk-toggleable__label {background-color: #d4ebff;}#sk-container-id-4 div.sk-serial::before {content: \"\";position: absolute;border-left: 1px solid gray;box-sizing: border-box;top: 0;bottom: 0;left: 50%;z-index: 0;}#sk-container-id-4 div.sk-serial {display: flex;flex-direction: column;align-items: center;background-color: white;padding-right: 0.2em;padding-left: 0.2em;position: relative;}#sk-container-id-4 div.sk-item {position: relative;z-index: 1;}#sk-container-id-4 div.sk-parallel {display: flex;align-items: stretch;justify-content: center;background-color: white;position: relative;}#sk-container-id-4 div.sk-item::before, #sk-container-id-4 div.sk-parallel-item::before {content: \"\";position: absolute;border-left: 1px solid gray;box-sizing: border-box;top: 0;bottom: 0;left: 50%;z-index: -1;}#sk-container-id-4 div.sk-parallel-item {display: flex;flex-direction: column;z-index: 1;position: relative;background-color: white;}#sk-container-id-4 div.sk-parallel-item:first-child::after {align-self: flex-end;width: 50%;}#sk-container-id-4 div.sk-parallel-item:last-child::after {align-self: flex-start;width: 50%;}#sk-container-id-4 div.sk-parallel-item:only-child::after {width: 0;}#sk-container-id-4 div.sk-dashed-wrapped {border: 1px dashed gray;margin: 0 0.4em 0.5em 0.4em;box-sizing: border-box;padding-bottom: 0.4em;background-color: white;}#sk-container-id-4 div.sk-label label {font-family: monospace;font-weight: bold;display: inline-block;line-height: 1.2em;}#sk-container-id-4 div.sk-label-container {text-align: center;}#sk-container-id-4 div.sk-container {/* jupyter's `normalize.less` sets `[hidden] { display: none; }` but bootstrap.min.css set `[hidden] { display: none !important; }` so we also need the `!important` here to be able to override the default hidden behavior on the sphinx rendered scikit-learn.org. See: https://github.com/scikit-learn/scikit-learn/issues/21755 */display: inline-block !important;position: relative;}#sk-container-id-4 div.sk-text-repr-fallback {display: none;}</style><div id=\"sk-container-id-4\" class=\"sk-top-container\"><div class=\"sk-text-repr-fallback\"><pre>LinearRegression()</pre><b>In a Jupyter environment, please rerun this cell to show the HTML representation or trust the notebook. <br />On GitHub, the HTML representation is unable to render, please try loading this page with nbviewer.org.</b></div><div class=\"sk-container\" hidden><div class=\"sk-item\"><div class=\"sk-estimator sk-toggleable\"><input class=\"sk-toggleable__control sk-hidden--visually\" id=\"sk-estimator-id-4\" type=\"checkbox\" checked><label for=\"sk-estimator-id-4\" class=\"sk-toggleable__label sk-toggleable__label-arrow\">LinearRegression</label><div class=\"sk-toggleable__content\"><pre>LinearRegression()</pre></div></div></div></div></div>"
      ],
      "text/plain": [
       "LinearRegression()"
      ]
     },
     "execution_count": 34,
     "metadata": {},
     "output_type": "execute_result"
    }
   ],
   "source": [
    "poly = PolynomialFeatures(degree=2)\n",
    "p_poly_train = poly.fit_transform(p_train_scaler)\n",
    "p_test_poly = poly.transform(p_test_scaler)\n",
    "poly.fit(p_poly_train, q_train)\n",
    "regressor.fit(p_poly_train, q_train)"
   ]
  },
  {
   "cell_type": "code",
   "execution_count": 35,
   "id": "849e6567",
   "metadata": {},
   "outputs": [],
   "source": [
    "q_pred = regressor.predict(p_test_poly)"
   ]
  },
  {
   "cell_type": "code",
   "execution_count": 36,
   "id": "90a64432",
   "metadata": {},
   "outputs": [],
   "source": [
    "polynomial_score=r2_score(q_test,q_pred)"
   ]
  },
  {
   "cell_type": "code",
   "execution_count": 37,
   "id": "f7a6fda2",
   "metadata": {},
   "outputs": [
    {
     "data": {
      "text/plain": [
       "0.6368960074297692"
      ]
     },
     "execution_count": 37,
     "metadata": {},
     "output_type": "execute_result"
    }
   ],
   "source": [
    "polynomial_score"
   ]
  },
  {
   "cell_type": "code",
   "execution_count": 38,
   "id": "3806f069",
   "metadata": {},
   "outputs": [
    {
     "data": {
      "image/png": "[encoded data removed]",
      "text/plain": [
       "<Figure size 640x480 with 1 Axes>"
      ]
     },
     "metadata": {},
     "output_type": "display_data"
    }
   ],
   "source": [
    "# plotting the points   \n",
    "plt.plot(q_test,q_pred,\"ob\")  \n",
    "    \n",
    "# naming the x axis  \n",
    "plt.xlabel('q_test')  \n",
    "# naming the y axis  \n",
    "plt.ylabel('q_pred')  \n",
    "    \n",
    "# giving a title to my graph  \n",
    "plt.title('Polynomial regression')  \n",
    "    \n",
    "# function to show the plot  \n",
    "plt.show() "
   ]
  },
  {
   "cell_type": "markdown",
   "id": "606e2da3",
   "metadata": {},
   "source": [
    "## 3) RANDOM FOREST REGRESSION"
   ]
  },
  {
   "cell_type": "code",
   "execution_count": 39,
   "id": "eacad338",
   "metadata": {},
   "outputs": [],
   "source": [
    "a = dataset.iloc[:, :-1]\n",
    "b = dataset.iloc[:, 3]\n",
    "\n",
    "a_train, a_test, b_train, b_test = train_test_split(a, b, test_size = 0.2, random_state = 42)"
   ]
  },
  {
   "cell_type": "code",
   "execution_count": 40,
   "id": "461d9e78",
   "metadata": {},
   "outputs": [
    {
     "data": {
      "text/html": [
       "<style>#sk-container-id-5 {color: black;}#sk-container-id-5 pre{padding: 0;}#sk-container-id-5 div.sk-toggleable {background-color: white;}#sk-container-id-5 label.sk-toggleable__label {cursor: pointer;display: block;width: 100%;margin-bottom: 0;padding: 0.3em;box-sizing: border-box;text-align: center;}#sk-container-id-5 label.sk-toggleable__label-arrow:before {content: \"▸\";float: left;margin-right: 0.25em;color: #696969;}#sk-container-id-5 label.sk-toggleable__label-arrow:hover:before {color: black;}#sk-container-id-5 div.sk-estimator:hover label.sk-toggleable__label-arrow:before {color: black;}#sk-container-id-5 div.sk-toggleable__content {max-height: 0;max-width: 0;overflow: hidden;text-align: left;background-color: #f0f8ff;}#sk-container-id-5 div.sk-toggleable__content pre {margin: 0.2em;color: black;border-radius: 0.25em;background-color: #f0f8ff;}#sk-container-id-5 input.sk-toggleable__control:checked~div.sk-toggleable__content {max-height: 200px;max-width: 100%;overflow: auto;}#sk-container-id-5 input.sk-toggleable__control:checked~label.sk-toggleable__label-arrow:before {content: \"▾\";}#sk-container-id-5 div.sk-estimator input.sk-toggleable__control:checked~label.sk-toggleable__label {background-color: #d4ebff;}#sk-container-id-5 div.sk-label input.sk-toggleable__control:checked~label.sk-toggleable__label {background-color: #d4ebff;}#sk-container-id-5 input.sk-hidden--visually {border: 0;clip: rect(1px 1px 1px 1px);clip: rect(1px, 1px, 1px, 1px);height: 1px;margin: -1px;overflow: hidden;padding: 0;position: absolute;width: 1px;}#sk-container-id-5 div.sk-estimator {font-family: monospace;background-color: #f0f8ff;border: 1px dotted black;border-radius: 0.25em;box-sizing: border-box;margin-bottom: 0.5em;}#sk-container-id-5 div.sk-estimator:hover {background-color: #d4ebff;}#sk-container-id-5 div.sk-parallel-item::after {content: \"\";width: 100%;border-bottom: 1px solid gray;flex-grow: 1;}#sk-container-id-5 div.sk-label:hover label.sk-toggleable__label {background-color: #d4ebff;}#sk-container-id-5 div.sk-serial::before {content: \"\";position: absolute;border-left: 1px solid gray;box-sizing: border-box;top: 0;bottom: 0;left: 50%;z-index: 0;}#sk-container-id-5 div.sk-serial {display: flex;flex-direction: column;align-items: center;background-color: white;padding-right: 0.2em;padding-left: 0.2em;position: relative;}#sk-container-id-5 div.sk-item {position: relative;z-index: 1;}#sk-container-id-5 div.sk-parallel {display: flex;align-items: stretch;justify-content: center;background-color: white;position: relative;}#sk-container-id-5 div.sk-item::before, #sk-container-id-5 div.sk-parallel-item::before {content: \"\";position: absolute;border-left: 1px solid gray;box-sizing: border-box;top: 0;bottom: 0;left: 50%;z-index: -1;}#sk-container-id-5 div.sk-parallel-item {display: flex;flex-direction: column;z-index: 1;position: relative;background-color: white;}#sk-container-id-5 div.sk-parallel-item:first-child::after {align-self: flex-end;width: 50%;}#sk-container-id-5 div.sk-parallel-item:last-child::after {align-self: flex-start;width: 50%;}#sk-container-id-5 div.sk-parallel-item:only-child::after {width: 0;}#sk-container-id-5 div.sk-dashed-wrapped {border: 1px dashed gray;margin: 0 0.4em 0.5em 0.4em;box-sizing: border-box;padding-bottom: 0.4em;background-color: white;}#sk-container-id-5 div.sk-label label {font-family: monospace;font-weight: bold;display: inline-block;line-height: 1.2em;}#sk-container-id-5 div.sk-label-container {text-align: center;}#sk-container-id-5 div.sk-container {/* jupyter's `normalize.less` sets `[hidden] { display: none; }` but bootstrap.min.css set `[hidden] { display: none !important; }` so we also need the `!important` here to be able to override the default hidden behavior on the sphinx rendered scikit-learn.org. See: https://github.com/scikit-learn/scikit-learn/issues/21755 */display: inline-block !important;position: relative;}#sk-container-id-5 div.sk-text-repr-fallback {display: none;}</style><div id=\"sk-container-id-5\" class=\"sk-top-container\"><div class=\"sk-text-repr-fallback\"><pre>RandomForestRegressor()</pre><b>In a Jupyter environment, please rerun this cell to show the HTML representation or trust the notebook. <br />On GitHub, the HTML representation is unable to render, please try loading this page with nbviewer.org.</b></div><div class=\"sk-container\" hidden><div class=\"sk-item\"><div class=\"sk-estimator sk-toggleable\"><input class=\"sk-toggleable__control sk-hidden--visually\" id=\"sk-estimator-id-5\" type=\"checkbox\" checked><label for=\"sk-estimator-id-5\" class=\"sk-toggleable__label sk-toggleable__label-arrow\">RandomForestRegressor</label><div class=\"sk-toggleable__content\"><pre>RandomForestRegressor()</pre></div></div></div></div></div>"
      ],
      "text/plain": [
       "RandomForestRegressor()"
      ]
     },
     "execution_count": 40,
     "metadata": {},
     "output_type": "execute_result"
    }
   ],
   "source": [
    "reg = RandomForestRegressor()\n",
    "reg.fit(a_train, b_train)"
   ]
  },
  {
   "cell_type": "code",
   "execution_count": 41,
   "id": "341d0e2b",
   "metadata": {},
   "outputs": [
    {
     "data": {
      "text/plain": [
       "0.927328732352513"
      ]
     },
     "execution_count": 41,
     "metadata": {},
     "output_type": "execute_result"
    }
   ],
   "source": [
    "b_pred_new = reg.predict(a_test)\n",
    "Random_forest_score=r2_score(b_test,b_pred_new)\n",
    "Random_forest_score"
   ]
  },
  {
   "cell_type": "code",
   "execution_count": 42,
   "id": "4f95fc87",
   "metadata": {},
   "outputs": [
    {
     "data": {
      "image/png": "[encoded data removed]",
      "text/plain": [
       "<Figure size 640x480 with 1 Axes>"
      ]
     },
     "metadata": {},
     "output_type": "display_data"
    }
   ],
   "source": [
    "# plotting the points   \n",
    "plt.plot(b_test,b_pred_new,\"ob\")  \n",
    "    \n",
    "# naming the x axis  \n",
    "plt.xlabel('y_test')  \n",
    "# naming the y axis  \n",
    "plt.ylabel('y_pred')  \n",
    "    \n",
    "# giving a title to my graph  \n",
    "plt.title('Random Forest Regression')  \n",
    "    \n",
    "# function to show the plot  \n",
    "plt.show() "
   ]
  },
  {
   "cell_type": "markdown",
   "id": "29c9d3cc",
   "metadata": {},
   "source": [
    "## 4) SUPPORT VECTOR REGRESSION"
   ]
  },
  {
   "cell_type": "code",
   "execution_count": 45,
   "id": "35a90015",
   "metadata": {},
   "outputs": [
    {
     "name": "stdout",
     "output_type": "stream",
     "text": [
      "Mean Squared Error: 1.291452556089583e-07\n",
      "R^2 Score: -4.202673324466249\n",
      "Dual Coefficients: []\n",
      "Support Vectors: []\n"
     ]
    },
    {
     "data": {
      "image/png": "[encoded data removed]",
      "text/plain": [
       "<Figure size 640x480 with 1 Axes>"
      ]
     },
     "metadata": {},
     "output_type": "display_data"
    }
   ],
   "source": [
    "# Import necessary libraries\n",
    "from sklearn.svm import SVR\n",
    "from sklearn.model_selection import train_test_split\n",
    "from sklearn.preprocessing import StandardScaler\n",
    "import numpy as np\n",
    "\n",
    "# Assuming your data is in X and labels in y\n",
    "X = dataset.iloc[:, :-1]\n",
    "y = dataset.iloc[:, 3]\n",
    "\n",
    "# Split the data into training and testing sets\n",
    "X_train, X_test, y_train, y_test = train_test_split(X, y, test_size=0.2, random_state=42)\n",
    "\n",
    "# Standardize the features (SVR is sensitive to the scale of features)\n",
    "scaler = StandardScaler()\n",
    "X_train_scaled = scaler.fit_transform(X_train)\n",
    "X_test_scaled = scaler.transform(X_test)\n",
    "\n",
    "# Create SVR model\n",
    "svr = SVR(kernel='rbf')  # You can use other kernels like 'rbf' as well\n",
    "\n",
    "# Fit the model to the training data\n",
    "svr.fit(X_train_scaled, y_train)\n",
    "\n",
    "# Make predictions on the test set\n",
    "predictions = svr.predict(X_test_scaled)\n",
    "\n",
    "# Evaluate the model\n",
    "mse = mean_squared_error(y_test, predictions)\n",
    "r2 = r2_score(y_test, predictions)\n",
    "\n",
    "print(\"Mean Squared Error:\", mse)\n",
    "print(\"R^2 Score:\", r2)\n",
    "# After fitting the SVR model\n",
    "dual_coefficients = svr.dual_coef_\n",
    "\n",
    "print(\"Dual Coefficients:\", dual_coefficients)\n",
    "support_vectors = svr.support_vectors_\n",
    "\n",
    "print(\"Support Vectors:\", support_vectors)\n",
    "# plotting the points   \n",
    "plt.plot(y_test,y_pred,\"ob\")  \n",
    "    \n",
    "# naming the x axis  \n",
    "plt.xlabel('y_test')  \n",
    "# naming the y axis  \n",
    "plt.ylabel('y_pred')  \n",
    "    \n",
    "# giving a title to my graph  \n",
    "plt.title('Support Vector Regression')  \n",
    "    \n",
    "# function to show the plot  \n",
    "plt.show() "
   ]
  },
  {
   "cell_type": "markdown",
   "id": "4585728b",
   "metadata": {},
   "source": [
    "## 5) DECISION TREE REGRESSION"
   ]
  },
  {
   "cell_type": "code",
   "execution_count": 46,
   "id": "fce236b6",
   "metadata": {},
   "outputs": [
    {
     "data": {
      "text/html": [
       "<style>#sk-container-id-6 {color: black;}#sk-container-id-6 pre{padding: 0;}#sk-container-id-6 div.sk-toggleable {background-color: white;}#sk-container-id-6 label.sk-toggleable__label {cursor: pointer;display: block;width: 100%;margin-bottom: 0;padding: 0.3em;box-sizing: border-box;text-align: center;}#sk-container-id-6 label.sk-toggleable__label-arrow:before {content: \"▸\";float: left;margin-right: 0.25em;color: #696969;}#sk-container-id-6 label.sk-toggleable__label-arrow:hover:before {color: black;}#sk-container-id-6 div.sk-estimator:hover label.sk-toggleable__label-arrow:before {color: black;}#sk-container-id-6 div.sk-toggleable__content {max-height: 0;max-width: 0;overflow: hidden;text-align: left;background-color: #f0f8ff;}#sk-container-id-6 div.sk-toggleable__content pre {margin: 0.2em;color: black;border-radius: 0.25em;background-color: #f0f8ff;}#sk-container-id-6 input.sk-toggleable__control:checked~div.sk-toggleable__content {max-height: 200px;max-width: 100%;overflow: auto;}#sk-container-id-6 input.sk-toggleable__control:checked~label.sk-toggleable__label-arrow:before {content: \"▾\";}#sk-container-id-6 div.sk-estimator input.sk-toggleable__control:checked~label.sk-toggleable__label {background-color: #d4ebff;}#sk-container-id-6 div.sk-label input.sk-toggleable__control:checked~label.sk-toggleable__label {background-color: #d4ebff;}#sk-container-id-6 input.sk-hidden--visually {border: 0;clip: rect(1px 1px 1px 1px);clip: rect(1px, 1px, 1px, 1px);height: 1px;margin: -1px;overflow: hidden;padding: 0;position: absolute;width: 1px;}#sk-container-id-6 div.sk-estimator {font-family: monospace;background-color: #f0f8ff;border: 1px dotted black;border-radius: 0.25em;box-sizing: border-box;margin-bottom: 0.5em;}#sk-container-id-6 div.sk-estimator:hover {background-color: #d4ebff;}#sk-container-id-6 div.sk-parallel-item::after {content: \"\";width: 100%;border-bottom: 1px solid gray;flex-grow: 1;}#sk-container-id-6 div.sk-label:hover label.sk-toggleable__label {background-color: #d4ebff;}#sk-container-id-6 div.sk-serial::before {content: \"\";position: absolute;border-left: 1px solid gray;box-sizing: border-box;top: 0;bottom: 0;left: 50%;z-index: 0;}#sk-container-id-6 div.sk-serial {display: flex;flex-direction: column;align-items: center;background-color: white;padding-right: 0.2em;padding-left: 0.2em;position: relative;}#sk-container-id-6 div.sk-item {position: relative;z-index: 1;}#sk-container-id-6 div.sk-parallel {display: flex;align-items: stretch;justify-content: center;background-color: white;position: relative;}#sk-container-id-6 div.sk-item::before, #sk-container-id-6 div.sk-parallel-item::before {content: \"\";position: absolute;border-left: 1px solid gray;box-sizing: border-box;top: 0;bottom: 0;left: 50%;z-index: -1;}#sk-container-id-6 div.sk-parallel-item {display: flex;flex-direction: column;z-index: 1;position: relative;background-color: white;}#sk-container-id-6 div.sk-parallel-item:first-child::after {align-self: flex-end;width: 50%;}#sk-container-id-6 div.sk-parallel-item:last-child::after {align-self: flex-start;width: 50%;}#sk-container-id-6 div.sk-parallel-item:only-child::after {width: 0;}#sk-container-id-6 div.sk-dashed-wrapped {border: 1px dashed gray;margin: 0 0.4em 0.5em 0.4em;box-sizing: border-box;padding-bottom: 0.4em;background-color: white;}#sk-container-id-6 div.sk-label label {font-family: monospace;font-weight: bold;display: inline-block;line-height: 1.2em;}#sk-container-id-6 div.sk-label-container {text-align: center;}#sk-container-id-6 div.sk-container {/* jupyter's `normalize.less` sets `[hidden] { display: none; }` but bootstrap.min.css set `[hidden] { display: none !important; }` so we also need the `!important` here to be able to override the default hidden behavior on the sphinx rendered scikit-learn.org. See: https://github.com/scikit-learn/scikit-learn/issues/21755 */display: inline-block !important;position: relative;}#sk-container-id-6 div.sk-text-repr-fallback {display: none;}</style><div id=\"sk-container-id-6\" class=\"sk-top-container\"><div class=\"sk-text-repr-fallback\"><pre>DecisionTreeRegressor()</pre><b>In a Jupyter environment, please rerun this cell to show the HTML representation or trust the notebook. <br />On GitHub, the HTML representation is unable to render, please try loading this page with nbviewer.org.</b></div><div class=\"sk-container\" hidden><div class=\"sk-item\"><div class=\"sk-estimator sk-toggleable\"><input class=\"sk-toggleable__control sk-hidden--visually\" id=\"sk-estimator-id-6\" type=\"checkbox\" checked><label for=\"sk-estimator-id-6\" class=\"sk-toggleable__label sk-toggleable__label-arrow\">DecisionTreeRegressor</label><div class=\"sk-toggleable__content\"><pre>DecisionTreeRegressor()</pre></div></div></div></div></div>"
      ],
      "text/plain": [
       "DecisionTreeRegressor()"
      ]
     },
     "execution_count": 46,
     "metadata": {},
     "output_type": "execute_result"
    }
   ],
   "source": [
    "# Assuming your data is in X and labels in y\n",
    "x = dataset.iloc[:, :-1]\n",
    "y = dataset.iloc[:, 3]\n",
    "\n",
    "# Split the data into training and testing sets\n",
    "x_train, x_test, y_train, y_test = train_test_split(x, y, test_size=0.2, random_state=42)\n",
    "rg = DecisionTreeRegressor() \n",
    "rg.fit(x_train, y_train)"
   ]
  },
  {
   "cell_type": "code",
   "execution_count": 47,
   "id": "c83f6339",
   "metadata": {},
   "outputs": [],
   "source": [
    "y_predict = rg.predict(x_test)"
   ]
  },
  {
   "cell_type": "code",
   "execution_count": 48,
   "id": "6643571f",
   "metadata": {},
   "outputs": [
    {
     "data": {
      "text/plain": [
       "0.6962527639551213"
      ]
     },
     "execution_count": 48,
     "metadata": {},
     "output_type": "execute_result"
    }
   ],
   "source": [
    "decision_tree_score=r2_score(y_test,y_predict)\n",
    "decision_tree_score"
   ]
  },
  {
   "cell_type": "code",
   "execution_count": 49,
   "id": "7c86fcf3",
   "metadata": {},
   "outputs": [
    {
     "data": {
      "image/png": "[encoded data removed]",
      "text/plain": [
       "<Figure size 640x480 with 1 Axes>"
      ]
     },
     "metadata": {},
     "output_type": "display_data"
    }
   ],
   "source": [
    "# plotting the points   \n",
    "plt.plot(y_test,y_predict,\"ob\")  \n",
    "    \n",
    "# naming the x axis  \n",
    "plt.xlabel('y_test')  \n",
    "# naming the y axis  \n",
    "plt.ylabel('y_pred')  \n",
    "    \n",
    "# giving a title to my graph  \n",
    "plt.title('Decision Tree Regression')  \n",
    "    \n",
    "# function to show the plot  \n",
    "plt.show()"
   ]
  },
  {
   "cell_type": "markdown",
   "id": "8266afaa",
   "metadata": {},
   "source": [
    "## Best Fitting Model"
   ]
  },
  {
   "cell_type": "code",
   "execution_count": 50,
   "id": "c932f367",
   "metadata": {},
   "outputs": [
    {
     "name": "stdout",
     "output_type": "stream",
     "text": [
      "Feature: log(surf T), Importance: 0.059835116733295286\n",
      "Feature: 1/Esat surf, Importance: 0.039400079661017315\n",
      "Feature: qair-qsurf, Importance: 0.9007648036056874\n"
     ]
    }
   ],
   "source": [
    "# Create and fit the random forest model\n",
    "model = RandomForestRegressor(n_estimators=100)  # You can adjust the number of trees\n",
    "model.fit(a,b)  # X represents your independent variables, and y is the dependent variable\n",
    "\n",
    "# Get feature importances\n",
    "feature_importances = model.feature_importances_\n",
    "\n",
    "# Print the feature importances\n",
    "for i, feature in enumerate(a.columns):\n",
    "    print(f\"Feature: {feature}, Importance: {feature_importances[i]}\")\n"
   ]
  },
  {
   "cell_type": "code",
   "execution_count": 52,
   "id": "bdaea517",
   "metadata": {},
   "outputs": [
    {
     "name": "stdout",
     "output_type": "stream",
     "text": [
      "R-squared: 0.993910712630324\n",
      "Mean Squared Error: 1.5115355602571557e-10\n",
      "Mean Absolute Error: 6.664178950000046e-06\n"
     ]
    }
   ],
   "source": [
    "b_pred_new = model.predict(a_test)\n",
    "\n",
    "r2 = r2_score(b_test, b_pred_new)\n",
    "mse = mean_squared_error(b_test, b_pred_new)\n",
    "mae = mean_absolute_error(b_test, b_pred_new)\n",
    "\n",
    "print(f\"R-squared: {r2}\")\n",
    "print(f\"Mean Squared Error: {mse}\")\n",
    "print(f\"Mean Absolute Error: {mae}\")"
   ]
  },
  {
   "cell_type": "code",
   "execution_count": null,
   "id": "b7bb6a70",
   "metadata": {},
   "outputs": [],
   "source": []
  }
 ],
 "metadata": {
  "kernelspec": {
   "display_name": "Python 3 (ipykernel)",
   "language": "python",
   "name": "python3"
  },
  "language_info": {
   "codemirror_mode": {
    "name": "ipython",
    "version": 3
   },
   "file_extension": ".py",
   "mimetype": "text/x-python",
   "name": "python",
   "nbconvert_exporter": "python",
   "pygments_lexer": "ipython3",
   "version": "3.11.4"
  }
 },
 "nbformat": 4,
 "nbformat_minor": 5
}
